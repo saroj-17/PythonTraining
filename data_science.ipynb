{
 "cells": [
  {
   "cell_type": "markdown",
   "id": "38ba45f7",
   "metadata": {},
   "source": [
    "# Numpy \n",
    "\n",
    "- Numpy is used mainly for mathematical and numerical computations \n",
    "- Multidimentional arrays, matrix.. \n",
    "\n",
    "- For installation: \n",
    "    `pip install numpy`\n",
    "    \n",
    "- Use cases: \n",
    "   - Array Handling \n",
    "   - Matrix Handling \n",
    "   - Mathematical operations \n",
    "   - Linear Algebra \n",
    "   - Statical Analysis \n",
    "   - Data Preprocessing "
   ]
  },
  {
   "cell_type": "code",
   "execution_count": null,
   "id": "737852b9",
   "metadata": {},
   "outputs": [],
   "source": [
    "1. Arrays: Creating Arrays, Indexing, Slicing "
   ]
  },
  {
   "cell_type": "code",
   "execution_count": 5,
   "id": "bb17cc0e",
   "metadata": {},
   "outputs": [
    {
     "name": "stdout",
     "output_type": "stream",
     "text": [
      "[1 2 3 4 5 6 7]\n",
      "[[1 2 3 4 5]\n",
      " [5 6 7 8 9]]\n",
      "[[[1 2]\n",
      "  [4 5]]\n",
      "\n",
      " [[4 5]\n",
      "  [6 7]]]\n"
     ]
    }
   ],
   "source": [
    "#Creating array from List \n",
    "\n",
    "import numpy as np \n",
    "\n",
    "#1D array \n",
    "\n",
    "arr1 = np.array([1,2,3,4,5,6,7])\n",
    "print(arr1)\n",
    "\n",
    "#2D array \n",
    "\n",
    "arr2 = np.array([[1,2,3,4,5],[5,6,7,8,9]])\n",
    "print(arr2)\n",
    "\n",
    "\n",
    "#3D array \n",
    "\n",
    "arr3 = np.array([[[1,2],[4,5]],[[4,5],[6,7]]])\n",
    "\n",
    "print(arr3)\n"
   ]
  },
  {
   "cell_type": "code",
   "execution_count": 14,
   "id": "040a3d63",
   "metadata": {},
   "outputs": [
    {
     "name": "stdout",
     "output_type": "stream",
     "text": [
      "[[0. 0.]\n",
      " [0. 0.]\n",
      " [0. 0.]]\n",
      "[[1. 1. 1.]\n",
      " [1. 1. 1.]\n",
      " [1. 1. 1.]]\n",
      "[[1. 0. 0. 0.]\n",
      " [0. 1. 0. 0.]\n",
      " [0. 0. 1. 0.]\n",
      " [0. 0. 0. 1.]]\n",
      "[[0.35198876 0.05249869 0.26536712]\n",
      " [0.28864087 0.14398263 0.87064988]\n",
      " [0.67710436 0.17918272 0.41135103]]\n",
      "Floating-Point Sequence: [0.  0.2 0.4 0.6 0.8]\n",
      "[ 1.    3.25  5.5   7.75 10.  ]\n"
     ]
    }
   ],
   "source": [
    "# Accessing arrays from special function \n",
    "\n",
    "zeros = np.zeros((3,2))\n",
    "print(zeros)\n",
    "\n",
    "\n",
    "ones = np.ones((3,3))\n",
    "print(ones)\n",
    "\n",
    "\n",
    "identity = np.eye(4)\n",
    "print(identity)\n",
    "\n",
    "#random values \n",
    "\n",
    "random_values = np.random.rand(3,3)\n",
    "print(random_values)\n",
    "\n",
    "\n",
    "sequence = np.arange(0, 1, 0.2)\n",
    "print(\"Floating-Point Sequence:\", sequence)\n",
    "\n",
    "#array with evenly distributed numbers \n",
    "\n",
    "linspace_array = np.linspace(1,10,5)\n",
    "print(linspace_array)\n"
   ]
  },
  {
   "cell_type": "code",
   "execution_count": 22,
   "id": "0bca386c",
   "metadata": {},
   "outputs": [
    {
     "name": "stdout",
     "output_type": "stream",
     "text": [
      "10\n",
      "70\n",
      "[10 20 30]\n",
      "1\n",
      "2\n",
      "[4 5 6]\n",
      "[3 6]\n"
     ]
    }
   ],
   "source": [
    "#Indexing and slicing \n",
    "# It is like that of lists in python \n",
    "\n",
    "arr = np.array([10,20,30,40,50,60,70])\n",
    "print(arr[0])\n",
    "print(arr[-1])\n",
    "print(arr[:3])\n",
    "\n",
    "\n",
    "\n",
    "arr1 = np.array([[1,2,3],[4,5,6]])\n",
    "print(arr1[0,0])\n",
    "print(arr1[0,1])\n",
    "print(arr1[1,:])\n",
    "print(arr1[:,2])\n"
   ]
  },
  {
   "cell_type": "code",
   "execution_count": 25,
   "id": "1074da48",
   "metadata": {},
   "outputs": [
    {
     "name": "stdout",
     "output_type": "stream",
     "text": [
      "[ 5  7  9 11 13]\n",
      "[-1 -1 -1 -1 -1]\n",
      "[ 6 12 20 30 42]\n",
      "[0.66666667 0.75       0.8        0.83333333 0.85714286]\n",
      "[     8     81   1024  15625 279936]\n",
      "[ 9 10 11 12 13]\n"
     ]
    }
   ],
   "source": [
    "#Mathematical operations using numpy \n",
    "\n",
    "\n",
    "a = np.array([2,3,4,5,6])\n",
    "b = np.array([3,4,5,6,7])\n",
    "\n",
    "print(a+b)\n",
    "print(a-b)\n",
    "print(a*b)\n",
    "print(a/b)\n",
    "print(a**b)\n",
    "\n",
    "\n",
    "#broadcasting \n",
    "\n",
    "print(a+7)"
   ]
  },
  {
   "cell_type": "markdown",
   "id": "b788f39f",
   "metadata": {},
   "source": [
    "# Statistical operations using Numpy \n",
    "- We can compute all descriptive statics using numpy \n",
    "\n",
    "\n",
    "\n"
   ]
  },
  {
   "cell_type": "code",
   "execution_count": 32,
   "id": "66cefc8f",
   "metadata": {},
   "outputs": [
    {
     "name": "stdout",
     "output_type": "stream",
     "text": [
      "35.0\n",
      "35.0\n",
      "210\n",
      "17.07825127659933\n",
      "291.6666666666667\n",
      "10\n",
      "60\n",
      "22.5 35.0 47.5\n"
     ]
    }
   ],
   "source": [
    "arr = np.array([10,20,30,40,50,60])\n",
    "\n",
    "\n",
    "print(np.mean(arr))\n",
    "print(np.median(arr))\n",
    "print(np.sum(arr))\n",
    "print(np.std(arr))\n",
    "print(np.var(arr))\n",
    "print(np.min(arr))\n",
    "print(np.max(arr))\n",
    "\n",
    "\n",
    "percentile_25 = np.percentile(arr,25)\n",
    "percentile_50 = np.percentile(arr, 50)\n",
    "percentile_75 = np.percentile(arr, 75)\n",
    "\n",
    "\n",
    "print(percentile_25, percentile_50, percentile_75)"
   ]
  },
  {
   "cell_type": "markdown",
   "id": "21b90507",
   "metadata": {},
   "source": [
    "# Matrix operations \n",
    "\n",
    "- We can compute all matrix operations using python like: \n",
    "    - Matrix addition/subtraction/ Multiplication  \n",
    "    - Matrix Transpose/Inverse\n",
    "\n",
    "\n",
    "\n"
   ]
  },
  {
   "cell_type": "code",
   "execution_count": 8,
   "id": "780a743e",
   "metadata": {},
   "outputs": [
    {
     "name": "stdout",
     "output_type": "stream",
     "text": [
      "[[ 6  8]\n",
      " [10 12]]\n",
      "[[ 5 12]\n",
      " [21 32]]\n",
      "[[19 22]\n",
      " [43 50]]\n",
      "[[1 3]\n",
      " [2 4]]\n",
      "[[-2.   1. ]\n",
      " [ 1.5 -0.5]]\n",
      "-2.0000000000000004\n"
     ]
    }
   ],
   "source": [
    "\n",
    "A = np.array([[1, 2], [3, 4]])\n",
    "B = np.array([[5, 6], [7, 8]])\n",
    "\n",
    "# Matrix Addition\n",
    "print(A + B)\n",
    "\n",
    "# Matrix Multiplication (Element-wise)\n",
    "print(A * B)\n",
    "\n",
    "# Matrix Multiplication (Dot Product)\n",
    "print(np.dot(A, B))  # [[19 22] [43 50]]\n",
    "\n",
    "# Transpose of a Matrix\n",
    "print(A.T)  # [[1 3] [2 4]]\n",
    "\n",
    "# Inverse of a Matrix\n",
    "print(np.linalg.inv(A))  # [[-2.   1. ] [ 1.5 -0.5]]\n",
    "\n",
    "# Determinant of a Matrix\n",
    "print(np.linalg.det(A))  # -2.0\n",
    "\n"
   ]
  },
  {
   "cell_type": "code",
   "execution_count": 10,
   "id": "bc21583b",
   "metadata": {},
   "outputs": [
    {
     "name": "stdout",
     "output_type": "stream",
     "text": [
      "[6.52727273 0.10909091 0.38181818]\n"
     ]
    }
   ],
   "source": [
    "\n",
    "# Coefficients (A)\n",
    "A = np.array([[1, 2, 19], [4, 33, 6], [7, 8, 9]])\n",
    "\n",
    "# Constants (B)\n",
    "B = np.array([14, 32, 50])\n",
    "\n",
    "# Solve\n",
    "X = np.linalg.solve(A, B)\n",
    "print(X)\n",
    "\n",
    "\n",
    "\n"
   ]
  },
  {
   "cell_type": "code",
   "execution_count": 1,
   "id": "a8cfac6f",
   "metadata": {},
   "outputs": [
    {
     "name": "stdout",
     "output_type": "stream",
     "text": [
      "Array a: [1 2 3]\n",
      "Reshaped h:\n",
      " [[0 1 2]\n",
      " [3 4 5]\n",
      " [6 7 8]]\n",
      "Sum: 21 Mean: 3.5 Max: 6\n"
     ]
    }
   ],
   "source": [
    "import numpy as np\n",
    "# 1. Creating Arrays\n",
    "a = np.array([1, 2, 3]) # 1D array\n",
    "b = np.array([[1, 2, 3], [4, 5, 6]]) # 2D array\n",
    "c = np.zeros((2, 3)) # Array of zeros\n",
    "d = np.ones((2, 3)) # Array of ones\n",
    "e = np.eye(3) # Identity matrix\n",
    "f = np.arange(0, 10, 2) # Array from 0 to 10 with step 2\n",
    "g = np.linspace(0, 1, 5) # 5 values from 0 to 1\n",
    "# 2. Reshaping Arrays\n",
    "h = np.arange(9).reshape(3, 3)\n",
    "# 3. Indexing & Slicing\n",
    "i = b[1, 2] # Access element at row 1, col 2\n",
    "j = b[:, 1] # All rows, column 1\n",
    "k = b[0, :] # First row, all columns\n",
    "# 4. Mathematical Operations\n",
    "l = a + 2 # Add scalar\n",
    "m = b * 2 # Multiply by scalar\n",
    "n = np.sqrt(a) # Square root\n",
    "o = np.exp(a) # Exponential\n",
    "p = np.sin(a) # Sine function\n",
    "# 5. Aggregations\n",
    "sum_all = np.sum(b) # Sum of all elements\n",
    "mean_val = np.mean(b) # Mean\n",
    "max_val = np.max(b) # Max value\n",
    "min_val = np.min(b) # Min value\n",
    "# 6. Random Numbers\n",
    "rand_array = np.random.rand(3, 3) # Random values between 0 and 1\n",
    "rand_int = np.random.randint(0, 10, (3, 3)) # Random integers\n",
    "# 7. Matrix Operations\n",
    "dot_product = np.dot(a, a.T) # Dot product\n",
    "matrix_mult = np.matmul(b, b.T) # Matrix multiplication\n",
    "# Print to verify\n",
    "print(\"Array a:\", a)\n",
    "print(\"Reshaped h:\\n\", h)\n",
    "print(\"Sum:\", sum_all, \"Mean:\", mean_val, \"Max:\", max_val)"
   ]
  },
  {
   "cell_type": "code",
   "execution_count": 3,
   "id": "ddfd4759",
   "metadata": {},
   "outputs": [
    {
     "name": "stdout",
     "output_type": "stream",
     "text": [
      "[[ 6  8]\n",
      " [10 12]]\n",
      "[[ 5 12]\n",
      " [21 32]]\n",
      "[[19 22]\n",
      " [43 50]]\n",
      "[[1 3]\n",
      " [2 4]]\n",
      "[[-2.   1. ]\n",
      " [ 1.5 -0.5]]\n",
      "-2.0000000000000004\n"
     ]
    }
   ],
   "source": [
    "A = np.array([[1, 2], [3, 4]])\n",
    "B = np.array([[5, 6], [7, 8]])\n",
    "# Matrix Addition\n",
    "print(A + B)\n",
    "\n",
    "# Matrix Multiplication (Element-wise)\n",
    "print(A * B)\n",
    "# Matrix Multiplication (Dot Product)\n",
    "print(np.dot(A, B))\n",
    "# Transpose of a Matrix\n",
    "print(A.T)\n",
    "# Inverse of a Matrix\n",
    "print(np.linalg.inv(A))\n",
    "# Determinant of a Matrix\n",
    "print(np.linalg.det(A))"
   ]
  },
  {
   "cell_type": "markdown",
   "id": "8e0addfe",
   "metadata": {},
   "source": [
    "### Solving a System of Linear Equations\n",
    "#### Solve:\n",
    "2x+3y = 8\n",
    "5x+7y =19"
   ]
  },
  {
   "cell_type": "code",
   "execution_count": 4,
   "id": "6f7dbfde",
   "metadata": {},
   "outputs": [
    {
     "name": "stdout",
     "output_type": "stream",
     "text": [
      "[1. 2.]\n"
     ]
    }
   ],
   "source": [
    "coefficients = np.array([[2, 3], [5, 7]])\n",
    "constants = np.array([8, 19])\n",
    "solution = np.linalg.solve(coefficients, constants)\n",
    "print(solution)"
   ]
  },
  {
   "cell_type": "markdown",
   "id": "28e16946",
   "metadata": {},
   "source": [
    "## Solve:\n",
    "### x+2y+4z =14\n",
    "### 4x+9y+10z =16\n",
    "### 7x+3y+9z=55"
   ]
  },
  {
   "cell_type": "code",
   "execution_count": 5,
   "id": "8018713f",
   "metadata": {},
   "outputs": [
    {
     "name": "stdout",
     "output_type": "stream",
     "text": [
      "[ 3.08235294 -5.90588235  5.68235294]\n"
     ]
    }
   ],
   "source": [
    "# Coefficients (A)\n",
    "A = np.array([[1, 2, 4], [4, 9, 10], [7, 3, 9]])\n",
    "# Constants (B)\n",
    "B = np.array([14, 16, 55])\n",
    "# Solve\n",
    "X = np.linalg.solve(A, B)\n",
    "print(X)"
   ]
  },
  {
   "cell_type": "markdown",
   "id": "35a48797",
   "metadata": {},
   "source": [
    "### Using Matrix Inverse to Solve Equations\n",
    "### AX = B\n",
    "### X = A(Inverse)B\n",
    "\n",
    "    3x+24 = 5\n",
    "    7x+4y = 10"
   ]
  },
  {
   "cell_type": "code",
   "execution_count": 6,
   "id": "d26d25b8",
   "metadata": {},
   "outputs": [
    {
     "name": "stdout",
     "output_type": "stream",
     "text": [
      "[8.8817842e-16 2.5000000e+00]\n"
     ]
    }
   ],
   "source": [
    "A = np.array([[3, 2], [7, 4]])\n",
    "B = np.array([5, 10])\n",
    "# Compute inverse of A\n",
    "A_inv = np.linalg.inv(A)\n",
    "# Compute solution\n",
    "X = np.dot(A_inv, B)\n",
    "print(X)"
   ]
  },
  {
   "cell_type": "markdown",
   "id": "35cdf59e",
   "metadata": {},
   "source": [
    "### Least Squares Solution\n",
    "#### If a system has more equations than unknowns, it may not have an exact solution.\n",
    "    A^T A x = A^T b\n",
    "### Equation:\n",
    "    x+y = 2\n",
    "    2x+3y = 5\n",
    "    4x+5y = 8\n"
   ]
  },
  {
   "cell_type": "code",
   "execution_count": 7,
   "id": "becc5434",
   "metadata": {},
   "outputs": [
    {
     "name": "stdout",
     "output_type": "stream",
     "text": [
      "[0.16666667 1.5       ]\n"
     ]
    }
   ],
   "source": [
    "A = np.array([[1, 1], [2, 3], [4, 5]])\n",
    "B = np.array([2, 5, 8])\n",
    "# Least Squares Solution\n",
    "X = np.linalg.lstsq(A, B, rcond=None)[0]\n",
    "print(X) # Approximate solution"
   ]
  },
  {
   "cell_type": "markdown",
   "id": "c61ab2b3",
   "metadata": {},
   "source": [
    "### Eigenvalues and Eigenvectors\n",
    "#### For a matrix A, the eigenvalues and eigenvectors satisfy:\n",
    "    Av = λv\n",
    "    Where,\n",
    "    In [6]:\n",
    "    In [8]:\n",
    "    • A is coe􀀁cient of matrix\n",
    "    • λ is eigon value\n",
    "    • v is eigon vector\n",
    "###### Eigenvectors for square matrices are defined as non-zero vector values which when multiplied by the square matrices give the scaler multiple of the vector, i.e. we defne an eigenvector for matrix A to be “v” if it specifies the condition, Av = λv"
   ]
  },
  {
   "cell_type": "code",
   "execution_count": 8,
   "id": "6cb0e48c",
   "metadata": {},
   "outputs": [
    {
     "name": "stdout",
     "output_type": "stream",
     "text": [
      "Eigenvalues: [3. 2.]\n",
      "Eigenvectors:\n",
      " [[0.89442719 0.70710678]\n",
      " [0.4472136  0.70710678]]\n"
     ]
    }
   ],
   "source": [
    "A = np.array([[4, -2], [1, 1]])\n",
    "# Compute eigenvalues and eigenvectors\n",
    "eigenvalues, eigenvectors = np.linalg.eig(A)\n",
    "print(\"Eigenvalues:\", eigenvalues)\n",
    "print(\"Eigenvectors:\\n\", eigenvectors)"
   ]
  },
  {
   "cell_type": "markdown",
   "id": "b42c8fd6",
   "metadata": {},
   "source": [
    "# Pandas"
   ]
  },
  {
   "cell_type": "markdown",
   "id": "343c8410",
   "metadata": {},
   "source": [
    "#### Pandas is an open-source Python library used for data manipulation, analysis, and cleaning. It provides powerful data structures such as Series (1D) and DataFrames (2D) to efficiently handle structured data.\n",
    "- Built on NumPy, allowing for fast numerical computations.\n",
    "- Commonly used in **data science, machine learning, and exploratory data analysis (EDA).**\n",
    "- Works well with *CSV, Excel, SQL databases, and JSON files.**\n",
    "- For Instillation\n",
    "    > `pip install pandas`"
   ]
  },
  {
   "cell_type": "code",
   "execution_count": null,
   "id": "2f9d1059",
   "metadata": {},
   "outputs": [],
   "source": []
  },
  {
   "cell_type": "code",
   "execution_count": null,
   "id": "4c8b8dcc",
   "metadata": {},
   "outputs": [],
   "source": []
  },
  {
   "cell_type": "code",
   "execution_count": null,
   "id": "ee1b09ed",
   "metadata": {},
   "outputs": [],
   "source": []
  },
  {
   "cell_type": "code",
   "execution_count": null,
   "id": "c47f7c97",
   "metadata": {},
   "outputs": [],
   "source": []
  },
  {
   "cell_type": "code",
   "execution_count": null,
   "id": "8fc46dcb",
   "metadata": {},
   "outputs": [],
   "source": []
  },
  {
   "cell_type": "code",
   "execution_count": null,
   "id": "494da038",
   "metadata": {},
   "outputs": [],
   "source": []
  }
 ],
 "metadata": {
  "kernelspec": {
   "display_name": "Python 3 (ipykernel)",
   "language": "python",
   "name": "python3"
  },
  "language_info": {
   "codemirror_mode": {
    "name": "ipython",
    "version": 3
   },
   "file_extension": ".py",
   "mimetype": "text/x-python",
   "name": "python",
   "nbconvert_exporter": "python",
   "pygments_lexer": "ipython3",
   "version": "3.11.1"
  }
 },
 "nbformat": 4,
 "nbformat_minor": 5
}
