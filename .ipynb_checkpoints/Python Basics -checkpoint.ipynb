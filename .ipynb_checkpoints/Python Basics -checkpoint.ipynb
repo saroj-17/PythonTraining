{
 "cells": [
  {
   "cell_type": "markdown",
   "id": "9d14cf92",
   "metadata": {},
   "source": [
    "\n",
    "# Python With ML training Texas International College 2025\n",
    "\n",
    "## Introduction to Python\n",
    "\n",
    "Python is a high-level, interpreted programming language known for its simplicity and readability. It is widely used in web development, data science, artificial intelligence, automation, and more.\n",
    "\n",
    "### Features of Python\n",
    "- **Easy to Learn**: Python has a simple syntax similar to English.\n",
    "- **Interpreted Language**: No need to compile; code runs directly.\n",
    "- **Dynamically Typed**: No need to declare variable types.\n",
    "- **Large Standard Library**: Comes with many built-in functions and modules.\n",
    "- **Cross-Platform**: Runs on Windows, macOS, and Linux.\n",
    "\n",
    "### Installing Python\n",
    "To install Python, visit the [official website](https://www.python.org/downloads/) and download the latest version.\n",
    "\n",
    "After installation, check the version by running:\n",
    "```bash\n",
    "python --version\n"
   ]
  },
  {
   "cell_type": "code",
   "execution_count": 1,
   "id": "3a23d4bf",
   "metadata": {},
   "outputs": [
    {
     "name": "stdout",
     "output_type": "stream",
     "text": [
      "Hello World\n"
     ]
    }
   ],
   "source": [
    "print(\"Hello World\")"
   ]
  },
  {
   "cell_type": "code",
   "execution_count": 2,
   "id": "7683797e",
   "metadata": {},
   "outputs": [
    {
     "name": "stdout",
     "output_type": "stream",
     "text": [
      "Bob\n"
     ]
    }
   ],
   "source": [
    "#single variable \n",
    "s = \"Bob\"\n",
    "print(s)"
   ]
  },
  {
   "cell_type": "code",
   "execution_count": 3,
   "id": "d6ce6aac",
   "metadata": {},
   "outputs": [
    {
     "name": "stdout",
     "output_type": "stream",
     "text": [
      "Var 1\n",
      " Var 2\n"
     ]
    }
   ],
   "source": [
    "myvar = \"Var 1\"\n",
    "\n",
    "myVar = \" Var 2\"\n",
    "\n",
    "print(myvar)\n",
    "print(myVar)"
   ]
  },
  {
   "cell_type": "code",
   "execution_count": 4,
   "id": "1625264d",
   "metadata": {},
   "outputs": [
    {
     "name": "stdout",
     "output_type": "stream",
     "text": [
      "Alice 10  New York\n"
     ]
    }
   ],
   "source": [
    "#multiple variable\n",
    "s = \"Alice\"\n",
    "x = 10\n",
    "city = \" New York\"\n",
    "\n",
    "print(s,x,city)"
   ]
  },
  {
   "cell_type": "code",
   "execution_count": 5,
   "id": "bd85c7f2",
   "metadata": {},
   "outputs": [
    {
     "name": "stdout",
     "output_type": "stream",
     "text": [
      "Amount: $123.34\n"
     ]
    }
   ],
   "source": [
    "#Output formatting \n",
    "\n",
    "amount = 123.341232 \n",
    "print(\"Amount: ${:.2f}\".format(amount))"
   ]
  },
  {
   "cell_type": "code",
   "execution_count": 6,
   "id": "f75f6c71",
   "metadata": {},
   "outputs": [
    {
     "name": "stdout",
     "output_type": "stream",
     "text": [
      "Hello@Texas\n"
     ]
    }
   ],
   "source": [
    "# end with @ paramater \n",
    "\n",
    "print(\"Hello\",end=\"@\")\n",
    "print(\"Texas\")\n"
   ]
  },
  {
   "cell_type": "code",
   "execution_count": 7,
   "id": "3f1a6b61",
   "metadata": {},
   "outputs": [
    {
     "name": "stdout",
     "output_type": "stream",
     "text": [
      "HELlO\n",
      "09-10-2024\n",
      "Hello@Texas\n"
     ]
    }
   ],
   "source": [
    "#seperation with coma \n",
    "\n",
    "print('H','E','L','l','O', sep=\"\")\n",
    "\n",
    "#date formatting \n",
    "print('09','10','2024', sep=\"-\")\n",
    "\n",
    "print(\"Hello\", \"Texas\", sep=\"@\")"
   ]
  },
  {
   "cell_type": "code",
   "execution_count": 8,
   "id": "0195b342",
   "metadata": {},
   "outputs": [
    {
     "name": "stdout",
     "output_type": "stream",
     "text": [
      "The name is ALice and age is 12\n"
     ]
    }
   ],
   "source": [
    "#fstring \n",
    "\n",
    "name = \"ALice\"\n",
    "age = 12 \n",
    "\n",
    "print(f\"The name is {name} and age is {age}\")"
   ]
  },
  {
   "cell_type": "markdown",
   "id": "65cae6ea",
   "metadata": {},
   "source": [
    "## Format specifier in python \n",
    "\n",
    "- %d - int \n",
    "- %f - float \n",
    "- %s - string \n",
    "- %x  - hex \n",
    "- %0 - Oct \n",
    "\n"
   ]
  },
  {
   "cell_type": "code",
   "execution_count": 9,
   "id": "285ca914",
   "metadata": {},
   "outputs": [
    {
     "name": "stdout",
     "output_type": "stream",
     "text": [
      "\t Enter any value10\n",
      "10\n",
      "Enter value20\n",
      "<class 'int'>\n",
      "The vale is 20\n"
     ]
    }
   ],
   "source": [
    "#taking value from user \n",
    "\n",
    "num = input(\"\\t Enter any value\")\n",
    "\n",
    "print(num)\n",
    "\n",
    "newnum =int(num)\n",
    "\n",
    "num2 = int(input(\"Enter value\"))\n",
    "\n",
    "\n",
    "\n",
    "print(type(newnum))\n",
    "\n",
    "print(\"The vale is %d\" %num2)"
   ]
  },
  {
   "cell_type": "code",
   "execution_count": 11,
   "id": "124af79d",
   "metadata": {},
   "outputs": [
    {
     "name": "stdout",
     "output_type": "stream",
     "text": [
      "Enter the values:150 70 80\n",
      "Total no of students:  150\n",
      "Total no of boys:  70\n",
      "Total no of girls 80\n"
     ]
    }
   ],
   "source": [
    "#multiple inputs in python \n",
    "\n",
    "x,y,z = input(\"Enter the values:\").split()\n",
    "\n",
    "print(\"Total no of students: \", x)\n",
    "print(\"Total no of boys: \", y)\n",
    "print(\"Total no of girls\", z)"
   ]
  },
  {
   "cell_type": "code",
   "execution_count": 12,
   "id": "e4d471b6",
   "metadata": {},
   "outputs": [
    {
     "name": "stdout",
     "output_type": "stream",
     "text": [
      "Enter the age55\n",
      "Working age\n"
     ]
    }
   ],
   "source": [
    "#conditional input \n",
    "\n",
    "age_input = input(\"Enter the age\")\n",
    "\n",
    "age = int(age_input)\n",
    "\n",
    "\n",
    "if age<0:\n",
    "    print(\"age cannot be negative \")\n",
    "elif age<=18: \n",
    "    print(\"Monor age\")\n",
    "elif age>=18 and age<= 60: \n",
    "    print(\"Working age\")\n",
    "else: \n",
    "    print(\"Old age\")"
   ]
  },
  {
   "cell_type": "code",
   "execution_count": 13,
   "id": "6212be07",
   "metadata": {},
   "outputs": [
    {
     "name": "stdout",
     "output_type": "stream",
     "text": [
      "Enter your name Saroj\n",
      " My name is Saroj From Texas college\n"
     ]
    }
   ],
   "source": [
    "#taking input in python \n",
    "\n",
    "name = input(\"Enter your name \")\n",
    "\n",
    "print(\" My name is\", name, \"From Texas college\")\n"
   ]
  },
  {
   "cell_type": "code",
   "execution_count": 14,
   "id": "68c01462",
   "metadata": {},
   "outputs": [
    {
     "name": "stdout",
     "output_type": "stream",
     "text": [
      "What color is rose? red\n",
      "red\n",
      "How many rose?15\n",
      "15\n",
      "What is the price of rose? 155\n",
      "155.0\n"
     ]
    }
   ],
   "source": [
    "#type casting \n",
    "\n",
    "color = input(\"What color is rose? \")\n",
    "print(color)\n",
    "\n",
    "n = int(input(\"How many rose?\"))\n",
    "print(n)\n",
    "              \n",
    "price = float(input(\"What is the price of rose? \"))\n",
    "print(price)"
   ]
  },
  {
   "cell_type": "code",
   "execution_count": 15,
   "id": "e42f4a83",
   "metadata": {},
   "outputs": [
    {
     "name": "stdout",
     "output_type": "stream",
     "text": [
      "<class 'int'>\n",
      "<class 'float'>\n",
      "<class 'str'>\n",
      "<class 'tuple'>\n",
      "<class 'list'>\n",
      "<class 'dict'>\n"
     ]
    }
   ],
   "source": [
    "#data types in python \n",
    "\n",
    "a = 15\n",
    "b = 15.55 \n",
    "c = \"Hello c \"\n",
    "d = (\"Code\", \"With\", \"Interest\")\n",
    "e = [\"Code\", \"With\", \"Python\"]\n",
    "f = {\"Name\":\"Ram\", \"age\": 10, \"Profession\":\"DataScience\"}\n",
    "\n",
    "\n",
    "print(type(a))\n",
    "print(type(b))\n",
    "print(type(c))\n",
    "print(type(d))\n",
    "print(type(e))\n",
    "print(type(f))"
   ]
  },
  {
   "cell_type": "code",
   "execution_count": 16,
   "id": "594a61e9",
   "metadata": {},
   "outputs": [
    {
     "ename": "SyntaxError",
     "evalue": "invalid decimal literal (1842172492.py, line 3)",
     "output_type": "error",
     "traceback": [
      "\u001b[1;36m  Cell \u001b[1;32mIn[16], line 3\u001b[1;36m\u001b[0m\n\u001b[1;33m    1ab = 2\u001b[0m\n\u001b[1;37m    ^\u001b[0m\n\u001b[1;31mSyntaxError\u001b[0m\u001b[1;31m:\u001b[0m invalid decimal literal\n"
     ]
    }
   ],
   "source": [
    "#vabiables in python should give invalid syntax error  \n",
    "\n",
    "1ab = 2 \n",
    "print(1ab)\n",
    "\n"
   ]
  },
  {
   "cell_type": "code",
   "execution_count": 17,
   "id": "f1ec15a2",
   "metadata": {},
   "outputs": [
    {
     "ename": "SyntaxError",
     "evalue": "invalid syntax (3222176043.py, line 1)",
     "output_type": "error",
     "traceback": [
      "\u001b[1;36m  Cell \u001b[1;32mIn[17], line 1\u001b[1;36m\u001b[0m\n\u001b[1;33m    $myvar = 10\u001b[0m\n\u001b[1;37m    ^\u001b[0m\n\u001b[1;31mSyntaxError\u001b[0m\u001b[1;31m:\u001b[0m invalid syntax\n"
     ]
    }
   ],
   "source": [
    "#Invalid variable declaration \n",
    "$myvar = 10 \n",
    "print($myvar)"
   ]
  },
  {
   "cell_type": "code",
   "execution_count": 19,
   "id": "607bde5a",
   "metadata": {},
   "outputs": [
    {
     "ename": "SyntaxError",
     "evalue": "cannot assign to expression here. Maybe you meant '==' instead of '='? (1769531752.py, line 2)",
     "output_type": "error",
     "traceback": [
      "\u001b[1;36m  Cell \u001b[1;32mIn[19], line 2\u001b[1;36m\u001b[0m\n\u001b[1;33m    user-name =\"Texas\"\u001b[0m\n\u001b[1;37m    ^\u001b[0m\n\u001b[1;31mSyntaxError\u001b[0m\u001b[1;31m:\u001b[0m cannot assign to expression here. Maybe you meant '==' instead of '='?\n"
     ]
    }
   ],
   "source": [
    "#invalid variable declaration \n",
    "user-name =\"Texas\"\n",
    "print(user-name)"
   ]
  },
  {
   "cell_type": "code",
   "execution_count": 22,
   "id": "d275eed4",
   "metadata": {},
   "outputs": [
    {
     "name": "stdout",
     "output_type": "stream",
     "text": [
      "Scope local\n",
      "Scope local\n"
     ]
    }
   ],
   "source": [
    "#local and global variable \n",
    "\n",
    "def foo():\n",
    "    global k\n",
    "    k = \"Scope local\"\n",
    "    print(k)\n",
    "\n",
    "foo()\n",
    "\n",
    "print(k)\n",
    "    "
   ]
  },
  {
   "cell_type": "code",
   "execution_count": 23,
   "id": "aca074e3",
   "metadata": {},
   "outputs": [
    {
     "name": "stdout",
     "output_type": "stream",
     "text": [
      "I am with local scope\n",
      "I am with local scope\n"
     ]
    }
   ],
   "source": [
    "k = \"I am with global scope\"\n",
    "\n",
    "def f():\n",
    "    global k ##converting local variable to global scope \n",
    "    k = \"I am with local scope\"\n",
    "    print(k)\n",
    "\n",
    "f()\n",
    "print(k)"
   ]
  },
  {
   "cell_type": "code",
   "execution_count": 24,
   "id": "23103a4f",
   "metadata": {},
   "outputs": [
    {
     "name": "stdout",
     "output_type": "stream",
     "text": [
      "10\n"
     ]
    },
    {
     "ename": "NameError",
     "evalue": "name 'p' is not defined",
     "output_type": "error",
     "traceback": [
      "\u001b[1;31m---------------------------------------------------------------------------\u001b[0m",
      "\u001b[1;31mNameError\u001b[0m                                 Traceback (most recent call last)",
      "Cell \u001b[1;32mIn[24], line 10\u001b[0m\n\u001b[0;32m      7\u001b[0m \u001b[38;5;66;03m# #remove this variable \u001b[39;00m\n\u001b[0;32m      9\u001b[0m \u001b[38;5;28;01mdel\u001b[39;00m p\n\u001b[1;32m---> 10\u001b[0m \u001b[38;5;28mprint\u001b[39m(\u001b[43mp\u001b[49m)\n",
      "\u001b[1;31mNameError\u001b[0m: name 'p' is not defined"
     ]
    }
   ],
   "source": [
    "# del keyword \n",
    "\n",
    "p =10 \n",
    "print(p)\n",
    "\n",
    "\n",
    "# #remove this variable \n",
    "# p is already deleted if you check it will result to undefined \n",
    "del p\n",
    "print(p)"
   ]
  },
  {
   "cell_type": "code",
   "execution_count": 25,
   "id": "392a43ec",
   "metadata": {},
   "outputs": [
    {
     "name": "stdout",
     "output_type": "stream",
     "text": [
      "20 10\n"
     ]
    }
   ],
   "source": [
    "# swapping of two variables \n",
    "\n",
    "a, b = 10, 20 \n",
    "a, b = b, a\n",
    "\n",
    "print(a,b)"
   ]
  },
  {
   "cell_type": "code",
   "execution_count": 26,
   "id": "2c62f40a",
   "metadata": {},
   "outputs": [
    {
     "name": "stdout",
     "output_type": "stream",
     "text": [
      "The length of string is 6\n"
     ]
    }
   ],
   "source": [
    "#to calculate the length of a string \n",
    "\n",
    "word = \"Python\"\n",
    "length = len(word)\n",
    "\n",
    "print(\"The length of string is\", length)\n"
   ]
  },
  {
   "cell_type": "code",
   "execution_count": 27,
   "id": "c4905198",
   "metadata": {},
   "outputs": [
    {
     "name": "stdout",
     "output_type": "stream",
     "text": [
      "The keyword in python are: \n",
      "['False', 'None', 'True', 'and', 'as', 'assert', 'async', 'await', 'break', 'class', 'continue', 'def', 'del', 'elif', 'else', 'except', 'finally', 'for', 'from', 'global', 'if', 'import', 'in', 'is', 'lambda', 'nonlocal', 'not', 'or', 'pass', 'raise', 'return', 'try', 'while', 'with', 'yield']\n"
     ]
    }
   ],
   "source": [
    "#Keyword \n",
    "\n",
    "import keyword \n",
    "print(\"The keyword in python are: \")\n",
    "print(keyword.kwlist)"
   ]
  },
  {
   "cell_type": "markdown",
   "id": "03ef6150",
   "metadata": {},
   "source": [
    "# operators in Python\n",
    "\n",
    "- Arithmetic operators \n",
    "- Logical Operators \n",
    "- Bitwise operators\n",
    "- Assignment operators \n",
    "- Relational Operator \n",
    "- Identity Operator \n",
    "- Membership Operator \n",
    "- Ternary Operator \n",
    "\n"
   ]
  },
  {
   "cell_type": "code",
   "execution_count": 28,
   "id": "c8150f77",
   "metadata": {},
   "outputs": [
    {
     "name": "stdout",
     "output_type": "stream",
     "text": [
      "a  is not in list\n",
      "10\n"
     ]
    }
   ],
   "source": [
    "#identity operator \n",
    "\n",
    "# a = 10 \n",
    "# b = 20 \n",
    "\n",
    "# print(a is a)\n",
    "# print(a is not b)\n",
    "\n",
    "\n",
    "#membership operators \n",
    "\n",
    "a = 10\n",
    "b = 60 \n",
    "list = [10,20,30,40,50]\n",
    "\n",
    "if (a in list):\n",
    "    print(\"a  is not in list\")\n",
    "\n",
    "    \n",
    "#ternary operators \n",
    "\n",
    "a, b = 10, 20 \n",
    "\n",
    "min = a if a<b else b \n",
    "print(min)\n",
    "\n",
    "\n"
   ]
  },
  {
   "cell_type": "code",
   "execution_count": 29,
   "id": "6351647e",
   "metadata": {},
   "outputs": [
    {
     "name": "stdout",
     "output_type": "stream",
     "text": [
      "100.0\n",
      "3\n",
      "0\n",
      "2417851639229258349412352\n"
     ]
    }
   ],
   "source": [
    "# operator associativity \n",
    "\n",
    "print(100/10*10)\n",
    "print(2-2+3)\n",
    "print(5-(2+3))\n",
    "print(2**3**4)"
   ]
  },
  {
   "cell_type": "markdown",
   "id": "5ae0ff8e",
   "metadata": {},
   "source": [
    "# data types in python \n",
    "\n",
    "1. Numeric DataType \n",
    "  - int \n",
    "  - float \n",
    "  - complex \n",
    "    \n",
    "2. Sequential Datatype \n",
    "   - string \n",
    "   - list\n",
    "   - tuple \n",
    "\n",
    "3. Mapping DataType \n",
    "   - dict \n",
    "    \n",
    "4. Boolean DataType \n",
    "   - bool \n",
    "    \n",
    "5. Set Type \n",
    "   - set \n",
    "   - frozenset\n",
    "    \n",
    "\n",
    "6. Binary Types \n",
    "   - byte \n",
    "   - bytearray\n",
    "   - memoryview \n",
    "    \n",
    "    \n",
    "\n",
    " \n"
   ]
  },
  {
   "cell_type": "code",
   "execution_count": 30,
   "id": "bf37a597",
   "metadata": {},
   "outputs": [
    {
     "name": "stdout",
     "output_type": "stream",
     "text": [
      "(3+5j)\n"
     ]
    }
   ],
   "source": [
    "# complex datatype \n",
    "\n",
    "x = complex(3, 5)\n",
    "print(x)\n"
   ]
  },
  {
   "cell_type": "code",
   "execution_count": 31,
   "id": "0c3fb08e",
   "metadata": {},
   "outputs": [
    {
     "name": "stdout",
     "output_type": "stream",
     "text": [
      "Wecome to Python Training Texas\n",
      "<class 'str'>\n",
      "e\n",
      "s\n"
     ]
    }
   ],
   "source": [
    "#string type \n",
    "\n",
    "s ='Wecome to Python Training Texas'\n",
    "\n",
    "print(s)\n",
    "print(type(s))\n",
    "\n",
    "print(s[1])\n",
    "print(s[-1])\n"
   ]
  },
  {
   "cell_type": "markdown",
   "id": "6762f965",
   "metadata": {},
   "source": [
    "# List \n",
    " **List** is an array like structure in pyton . \n",
    " **Syntax** list =[]"
   ]
  },
  {
   "cell_type": "code",
   "execution_count": 33,
   "id": "832c2121",
   "metadata": {},
   "outputs": [
    {
     "name": "stdout",
     "output_type": "stream",
     "text": [
      "['Saroj', 'Loves', 'Code', 4, 6.4]\n",
      "Saroj\n",
      "6.4\n",
      "['Loves', 'Code']\n",
      "['New', 'Loves', 'Code', 4, 6.4]\n",
      "['New', 'Loves', 'Code', 4, 6.4, 4]\n",
      "['New', 'Loves', 4, 6.4, 4]\n"
     ]
    }
   ],
   "source": [
    "b = [\"Saroj\", \"Loves\", \"Code\",4,6.4]\n",
    "\n",
    "print(b)\n",
    "\n",
    "print(b[0])\n",
    "\n",
    "print(b[-1])\n",
    "\n",
    "print(b[1:3])\n",
    "\n",
    "b[0] = \"New\"\n",
    "\n",
    "print(b)\n",
    "\n",
    "b.append(4)\n",
    "\n",
    "print(b)\n",
    "\n",
    "b.remove('Code')\n",
    "print(b)"
   ]
  },
  {
   "cell_type": "code",
   "execution_count": 34,
   "id": "f0998c06",
   "metadata": {},
   "outputs": [
    {
     "name": "stdout",
     "output_type": "stream",
     "text": [
      "Cherry\n",
      "Banana\n",
      "Mango\n",
      "Orange\n"
     ]
    }
   ],
   "source": [
    "fruits = ['Apple','Banana','Mango','Orange']\n",
    "fruits[0]\n",
    "fruits[0]='Cherry'\n",
    "fruits[0]\n",
    "for fruit in fruits:\n",
    "    print(fruit)"
   ]
  },
  {
   "cell_type": "code",
   "execution_count": 35,
   "id": "a5f252d1",
   "metadata": {},
   "outputs": [
    {
     "name": "stdout",
     "output_type": "stream",
     "text": [
      "[1, 2, 4, 10]\n",
      "['Jenny', 1, 2, 'Hello']\n",
      "[['b', 2]]\n"
     ]
    }
   ],
   "source": [
    "numbers = [1, 2, 3, 4, 10]\n",
    "names = ['Jenny', 'Sam', 'Alexis']\n",
    "mixed = ['Jenny', 1, 2]\n",
    "list_of_lists = [['a', 1], ['b', 2]]\n",
    "numbers.pop(2)\n",
    "print(numbers)\n",
    "mixed.append(\"Hello\")\n",
    "print(mixed)\n",
    "list_of_lists.remove(list_of_lists[0])\n",
    "print(list_of_lists)"
   ]
  },
  {
   "cell_type": "markdown",
   "id": "1da5f7be",
   "metadata": {},
   "source": [
    "## Tuple\n",
    "- Tuple is linear data structure like lists but they are **immutable(We cannot modify it)**.\n",
    "- We represent tuples using ()"
   ]
  },
  {
   "cell_type": "code",
   "execution_count": 36,
   "id": "ca5ff612",
   "metadata": {},
   "outputs": [
    {
     "name": "stdout",
     "output_type": "stream",
     "text": [
      "1\n",
      "(1, 2, 3, 4, 2, 3)\n",
      "(1, 2, 3, 4)\n"
     ]
    }
   ],
   "source": [
    "#empty tuple\n",
    "t1 = ()\n",
    "t2 = (1,2,3,4)\n",
    "print(t2[0])\n",
    "# t2[1] =\"Hello\"\n",
    "t3 = t2 + (2,3)\n",
    "print(t3)\n",
    "print(t2)"
   ]
  },
  {
   "cell_type": "code",
   "execution_count": 37,
   "id": "ad58cf36",
   "metadata": {},
   "outputs": [
    {
     "name": "stdout",
     "output_type": "stream",
     "text": [
      "<class 'bool'>\n"
     ]
    }
   ],
   "source": [
    "# BOOLEAN\n",
    "print(type(True))"
   ]
  },
  {
   "cell_type": "markdown",
   "id": "dc608d13",
   "metadata": {},
   "source": [
    "## Set in Python\n",
    "- Set is an **Unordered collection** of data.\n",
    "- Set is **mutable, iterable**\n",
    "- There is **no any element duplication** in set"
   ]
  },
  {
   "cell_type": "code",
   "execution_count": 38,
   "id": "4e6f17e5",
   "metadata": {},
   "outputs": [
    {
     "name": "stdout",
     "output_type": "stream",
     "text": [
      "{' ', 'i', 'x', 'T', 'a', 'l', 'g', 'e', 'I', 't', 's', 'o', 'n', 'r', 'c'}\n",
      "{'International', 1, 'Texas'}\n",
      " ixTalgeItsonrc"
     ]
    }
   ],
   "source": [
    "#Empty set\n",
    "s1 = set()\n",
    "s1 = set(\"Texas International college\")\n",
    "print(s1)\n",
    "#access set items\n",
    "set1 = set([\"Texas\", \"International\", 1])\n",
    "print(set1)\n",
    "#looping\n",
    "for i in s1:\n",
    "    print(i,end=\"\")"
   ]
  },
  {
   "cell_type": "markdown",
   "id": "286dad7d",
   "metadata": {},
   "source": [
    "## Dictionary\n",
    "- Dictionary is used when we need a value in **MAP {\"Key\":value}**\n",
    "- Value in dictionary can be in **any data types**, but **key is immutable and doesnot allow replications**\n",
    "-  We have **dict()** function for dictionary"
   ]
  },
  {
   "cell_type": "code",
   "execution_count": 39,
   "id": "2a0f0e1b",
   "metadata": {},
   "outputs": [],
   "source": [
    "d ={}"
   ]
  },
  {
   "cell_type": "code",
   "execution_count": 40,
   "id": "cd46bab6",
   "metadata": {},
   "outputs": [
    {
     "name": "stdout",
     "output_type": "stream",
     "text": [
      "{1: 'Texas', 2: 'International', 3: 'College'}\n"
     ]
    }
   ],
   "source": [
    "d = {1:\"Texas\", 2:\"International\", 3:\"College\"}\n",
    "print(d)"
   ]
  },
  {
   "cell_type": "code",
   "execution_count": 41,
   "id": "4214fe96",
   "metadata": {},
   "outputs": [
    {
     "name": "stdout",
     "output_type": "stream",
     "text": [
      "{1: 'Texas', 2: 'International', 3: 'College'}\n"
     ]
    }
   ],
   "source": [
    "d1 = dict({1:\"Texas\", 2:\"International\", 3:\"College\"})\n",
    "print(d1)"
   ]
  },
  {
   "cell_type": "code",
   "execution_count": 42,
   "id": "58e797a5",
   "metadata": {},
   "outputs": [
    {
     "name": "stdout",
     "output_type": "stream",
     "text": [
      "College\n"
     ]
    }
   ],
   "source": [
    "#accessing\n",
    "print(d1.get(3))\n"
   ]
  },
  {
   "cell_type": "code",
   "execution_count": 43,
   "id": "7b6d2dec",
   "metadata": {},
   "outputs": [
    {
     "name": "stdout",
     "output_type": "stream",
     "text": [
      "Enter value:6\n",
      "6 is less than 15\n"
     ]
    }
   ],
   "source": [
    "### Conditionals statements in python\n",
    "a = int(input(\"Enter value:\"))\n",
    "if a<15:\n",
    "    print(f\"{a} is less than 15\")\n",
    "elif a>15:\n",
    "    print(f\"{a} is greater than 15\")\n",
    "else:\n",
    "    print(f\"{a} is equal to 15\")"
   ]
  },
  {
   "cell_type": "code",
   "execution_count": 44,
   "id": "417c6f8f",
   "metadata": {},
   "outputs": [
    {
     "name": "stdout",
     "output_type": "stream",
     "text": [
      "Enter value65\n",
      "20% discount for senior citizen\n"
     ]
    }
   ],
   "source": [
    "#nested if elese\n",
    "age = int(input(\"Enter value\"))\n",
    "is_member = False\n",
    "if age>=60:\n",
    "    if (is_member is True):\n",
    "        print(\"30% discount for member senior citizen\")\n",
    "    else:\n",
    "        print(\"20% discount for senior citizen\")\n",
    "else:\n",
    "    print(\"Not eligible for discount\")"
   ]
  },
  {
   "cell_type": "code",
   "execution_count": 45,
   "id": "533af35f",
   "metadata": {},
   "outputs": [
    {
     "name": "stdout",
     "output_type": "stream",
     "text": [
      "Enter number6\n",
      "Other numbers\n"
     ]
    }
   ],
   "source": [
    "#match case in python\n",
    "number = int(input(\"Enter number\"))\n",
    "match number:\n",
    "    case 1 :\n",
    "        print(\"One\")\n",
    "    case 2|3:\n",
    "        print(\"Two or three\")\n",
    "    case 4:\n",
    "        print(\"Four\")\n",
    "    case _:\n",
    "        print(\"Other numbers\")"
   ]
  },
  {
   "cell_type": "markdown",
   "id": "8f43b16e",
   "metadata": {},
   "source": [
    "## loops in python\n",
    "\n",
    "1. While loop\n",
    "2. for loop\n",
    "3. for each loop\n",
    "\n"
   ]
  },
  {
   "cell_type": "markdown",
   "id": "613d2cd8",
   "metadata": {},
   "source": [
    "## 1. While Loop in Python: \n",
    " - While loop in python is known as **entry control loop** as condition is checked in the begining of program and loop statements gets executed only if the condition is true "
   ]
  },
  {
   "cell_type": "code",
   "execution_count": 46,
   "id": "1e1d046d",
   "metadata": {},
   "outputs": [
    {
     "name": "stdout",
     "output_type": "stream",
     "text": [
      "Enter the value:10\n",
      "10 * 1 =  10\n",
      "10 * 2 =  20\n",
      "10 * 3 =  30\n",
      "10 * 4 =  40\n",
      "10 * 5 =  50\n",
      "10 * 6 =  60\n",
      "10 * 7 =  70\n",
      "10 * 8 =  80\n",
      "10 * 9 =  90\n",
      "10 * 10 =  100\n",
      "10 * 11 =  110\n",
      "10 * 12 =  120\n",
      "10 * 13 =  130\n",
      "10 * 14 =  140\n",
      "10 * 15 =  150\n",
      "10 * 16 =  160\n",
      "10 * 17 =  170\n",
      "10 * 18 =  180\n",
      "10 * 19 =  190\n",
      "10 * 20 =  200\n"
     ]
    }
   ],
   "source": [
    "#Example of while loop in python \n",
    "\n",
    "count = 1\n",
    "n = int(input(\"Enter the value:\"))\n",
    "while count<=20:\n",
    "    print(f\"{n} * {count} = \", n*count)\n",
    "    count = count +1"
   ]
  },
  {
   "cell_type": "code",
   "execution_count": 47,
   "id": "28561e53",
   "metadata": {},
   "outputs": [
    {
     "name": "stdout",
     "output_type": "stream",
     "text": [
      "Enter the value of n150\n",
      "The sum of 150th positive integer is  11325\n"
     ]
    }
   ],
   "source": [
    "#while loop to compute sum of n positive integers\n",
    "\n",
    "n = int(input(\"Enter the value of n\"))\n",
    "i = 1\n",
    "sum = 0 \n",
    "\n",
    "while(i<=n):\n",
    "    sum = sum+i \n",
    "    i = i+1\n",
    "\n",
    "print(f\"The sum of {n}th positive integer is \", sum)\n"
   ]
  },
  {
   "cell_type": "markdown",
   "id": "168a5631",
   "metadata": {},
   "source": [
    "## Using Else statement with While loop \n",
    "\n",
    "- While loop is executed if and only if the condition is true \n",
    "- If we need to display output when while loop is not true then in such case we use Else statemnet with while loop \n"
   ]
  },
  {
   "cell_type": "code",
   "execution_count": 48,
   "id": "d7c55faf",
   "metadata": {},
   "outputs": [
    {
     "name": "stdout",
     "output_type": "stream",
     "text": [
      "hello texas\n",
      "hello texas\n",
      "hello texas\n",
      "In else block\n"
     ]
    }
   ],
   "source": [
    "count = 0 \n",
    "\n",
    "while(count<3):\n",
    "    count = count +1\n",
    "    print(\"hello texas\")\n",
    "else: \n",
    "    print(\"In else block\")"
   ]
  },
  {
   "cell_type": "markdown",
   "id": "8125f868",
   "metadata": {},
   "source": [
    "# For loop in Python \n",
    "\n",
    "- For loop is used for sequential traversal in python programming language. *Traversing the string, list, tuple* \n",
    "- Like **For each** loop in other programming language we have **for in** in python. \n"
   ]
  },
  {
   "cell_type": "code",
   "execution_count": 49,
   "id": "6fe16bb8",
   "metadata": {},
   "outputs": [
    {
     "name": "stdout",
     "output_type": "stream",
     "text": [
      "0\n",
      "1\n",
      "2\n",
      "3\n"
     ]
    }
   ],
   "source": [
    "# Example of for loop in python \n",
    "\n",
    "n = 4 \n",
    "\n",
    "for i in range(0,n):\n",
    "    print(i)"
   ]
  },
  {
   "cell_type": "code",
   "execution_count": 50,
   "id": "8ffeb71b",
   "metadata": {},
   "outputs": [
    {
     "name": "stdout",
     "output_type": "stream",
     "text": [
      "Hello\n",
      "texas\n",
      "Python\n"
     ]
    }
   ],
   "source": [
    "li = [\"Hello\", \"texas\", \"Python\"]\n",
    "\n",
    "for i in li: \n",
    "    print(i)"
   ]
  },
  {
   "cell_type": "code",
   "execution_count": 51,
   "id": "5fb1ecf9",
   "metadata": {},
   "outputs": [
    {
     "name": "stdout",
     "output_type": "stream",
     "text": [
      "code\n",
      "for\n",
      "Change\n"
     ]
    }
   ],
   "source": [
    "tup = (\"code\", \"for\", \"Change\")\n",
    "\n",
    "for mytuple in tup: \n",
    "    print(mytuple)"
   ]
  },
  {
   "cell_type": "code",
   "execution_count": 52,
   "id": "08440777",
   "metadata": {},
   "outputs": [
    {
     "name": "stdout",
     "output_type": "stream",
     "text": [
      "H\n",
      "e\n",
      "l\n",
      "l\n",
      "o\n",
      " \n",
      "T\n",
      "e\n",
      "x\n",
      "a\n",
      "s\n",
      " \n",
      "C\n",
      "o\n",
      "l\n",
      "l\n",
      "e\n",
      "g\n",
      "e\n"
     ]
    }
   ],
   "source": [
    "mystring = \"Hello Texas College\"\n",
    "\n",
    "for i in mystring: \n",
    "    print(i)"
   ]
  },
  {
   "cell_type": "code",
   "execution_count": 53,
   "id": "20065e06",
   "metadata": {},
   "outputs": [
    {
     "name": "stdout",
     "output_type": "stream",
     "text": [
      "x:1\n",
      "y:1\n"
     ]
    }
   ],
   "source": [
    "#dictionary \n",
    "\n",
    "d = dict({\"x\":1, \"y\":1})\n",
    "\n",
    "for i in d: \n",
    "    print(\"%s:%d\" %(i, d[i]))"
   ]
  },
  {
   "cell_type": "code",
   "execution_count": 54,
   "id": "d4b303db",
   "metadata": {},
   "outputs": [
    {
     "name": "stdout",
     "output_type": "stream",
     "text": [
      "Texas\n",
      "International\n",
      "College\n"
     ]
    }
   ],
   "source": [
    "list = [\"Texas\", \"International\", \"College\"]\n",
    "for index in range(len(list)):\n",
    "    print(list[index])"
   ]
  },
  {
   "cell_type": "code",
   "execution_count": 55,
   "id": "6debc7b4",
   "metadata": {},
   "outputs": [
    {
     "data": {
      "text/plain": [
       "'matrix: \\n    \\n    \\n    [\\n        a00 a01 a02 a03 \\n        a10 a11 a12 a13\\n        a20 a21 a22 a23\\n        a30 a31 a32 a33\\n    ]\\n    \\n    for(i= 0; i<=3;i++)\\n    {\\n        for(j=0; j<=3;j++)\\n        {\\n            a[i][j]\\n        }\\n    }\\n'"
      ]
     },
     "execution_count": 55,
     "metadata": {},
     "output_type": "execute_result"
    }
   ],
   "source": [
    "#Nested loop in python \n",
    "\n",
    "\"\"\"matrix: \n",
    "    \n",
    "    \n",
    "    [\n",
    "        a00 a01 a02 a03 \n",
    "        a10 a11 a12 a13\n",
    "        a20 a21 a22 a23\n",
    "        a30 a31 a32 a33\n",
    "    ]\n",
    "    \n",
    "    for(i= 0; i<=3;i++)\n",
    "    {\n",
    "        for(j=0; j<=3;j++)\n",
    "        {\n",
    "            a[i][j]\n",
    "        }\n",
    "    }\n",
    "\"\"\""
   ]
  },
  {
   "cell_type": "code",
   "execution_count": 56,
   "id": "9aa92f99",
   "metadata": {},
   "outputs": [
    {
     "name": "stdout",
     "output_type": "stream",
     "text": [
      "1\n",
      "22\n",
      "333\n",
      "4444\n"
     ]
    }
   ],
   "source": [
    "#nested structure in python \n",
    "\n",
    "for i in range(1,5):\n",
    "    for j in range(i): \n",
    "        print(i, end=\"\")\n",
    "    print()"
   ]
  },
  {
   "cell_type": "markdown",
   "id": "026d5b9e",
   "metadata": {},
   "source": [
    "# Looping Control Statements\n",
    "\n",
    "1. Break \n",
    "2. Continue \n",
    "3. pass \n",
    "\n"
   ]
  },
  {
   "cell_type": "code",
   "execution_count": 57,
   "id": "081418a0",
   "metadata": {},
   "outputs": [
    {
     "name": "stdout",
     "output_type": "stream",
     "text": [
      "C o d   f o r   T x s "
     ]
    }
   ],
   "source": [
    "#Continue in python \n",
    "for letter in 'Code for Texas':\n",
    "    if letter == 'e' or letter =='a':\n",
    "        continue\n",
    "    print(letter, end=\" \")\n",
    "\n"
   ]
  },
  {
   "cell_type": "code",
   "execution_count": 58,
   "id": "ea312697",
   "metadata": {},
   "outputs": [
    {
     "name": "stdout",
     "output_type": "stream",
     "text": [
      "C o d "
     ]
    }
   ],
   "source": [
    "#break statement in python \n",
    "\n",
    "for letter in 'Code for Texas':\n",
    "    if letter == 'e' or letter =='a':\n",
    "        break\n",
    "    print(letter, end=\" \")\n"
   ]
  },
  {
   "cell_type": "code",
   "execution_count": 59,
   "id": "9469a012",
   "metadata": {},
   "outputs": [
    {
     "name": "stdout",
     "output_type": "stream",
     "text": [
      "Last letter is: e\n"
     ]
    }
   ],
   "source": [
    "#pass Statement \n",
    "\n",
    "## Pass statement is used to declare empty loops\n",
    "\n",
    "\n",
    "for letter in 'Python for data science': \n",
    "    pass \n",
    "print('Last letter is:', letter)"
   ]
  },
  {
   "cell_type": "markdown",
   "id": "5079da90",
   "metadata": {},
   "source": [
    "# Functions in Python Programming \n",
    "\n",
    "- **Functions** is backbone for all programming language. It is also called module and subroutine. \n",
    "- **Functions are used for code reusability**: Declare one and use multiple times . \n",
    "- In this training session we will cover advance functions like lambda(), map(), range(), filter(). \n",
    "\n"
   ]
  },
  {
   "cell_type": "markdown",
   "id": "3f57f0e3",
   "metadata": {},
   "source": [
    "# Python def keyword\n",
    "\n",
    "- Python def keyword is used to define function, it is placed before function name. \n",
    "- In python function is a logical code containinig certain sequence of statents \n",
    "- Functions defined using def keyword are user deffined functions \n",
    "\n"
   ]
  },
  {
   "cell_type": "code",
   "execution_count": 60,
   "id": "5f936f1e",
   "metadata": {},
   "outputs": [
    {
     "name": "stdout",
     "output_type": "stream",
     "text": [
      "Hello from function\n"
     ]
    }
   ],
   "source": [
    "#define function \n",
    "def myfunction():\n",
    "    print(\"Hello from function\")\n",
    "\n",
    "#calling function \n",
    "myfunction()"
   ]
  },
  {
   "cell_type": "markdown",
   "id": "1251dd4e",
   "metadata": {},
   "source": [
    "# Functions in Python \n",
    "- Normal Functions without paramaters \n",
    "- Functions with paramaters and return value \n",
    "- Function with default paramaters\n",
    "- Functions with Variable length arguments (*args)\n",
    "- Functions with keyword arguments( * kwargs)\n",
    "- Lambda function (Anonymous funciton)\n",
    "- Recurssive function (Factorial)\n",
    "- Nested Function \n",
    "- Function as Arguments "
   ]
  },
  {
   "cell_type": "code",
   "execution_count": 61,
   "id": "13a89c52",
   "metadata": {},
   "outputs": [
    {
     "name": "stdout",
     "output_type": "stream",
     "text": [
      "Hello! Everyone Good Morning. Welcome to python Training\n"
     ]
    }
   ],
   "source": [
    "## 1. Normal functions without paramaters \n",
    "\n",
    "def greet():\n",
    "    print(\"Hello! Everyone Good Morning. Welcome to python Training\")\n",
    "    \n",
    "greet()\n",
    "    \n"
   ]
  },
  {
   "cell_type": "code",
   "execution_count": 62,
   "id": "d14d438c",
   "metadata": {},
   "outputs": [
    {
     "name": "stdout",
     "output_type": "stream",
     "text": [
      "Enter the first number:100 \n",
      "Enter the second number:200\n",
      "The sum of 100 and 200 is  300\n"
     ]
    }
   ],
   "source": [
    "## 2. Function with parameter and return value \n",
    "def total(a,b):\n",
    "    return a+b\n",
    "\n",
    "#calling \n",
    "\n",
    "a = int(input(\"Enter the first number:\"))\n",
    "b = int(input(\"Enter the second number:\"))\n",
    "\n",
    "sum_of_numbers = total(a,b)\n",
    "\n",
    "print(f\"The sum of {a} and {b} is \", sum_of_numbers)\n",
    "\n"
   ]
  },
  {
   "cell_type": "code",
   "execution_count": 63,
   "id": "02101dea",
   "metadata": {},
   "outputs": [
    {
     "name": "stdout",
     "output_type": "stream",
     "text": [
      "Enter the base number:300\n",
      "The value of 300^2 is 90000\n"
     ]
    }
   ],
   "source": [
    "#3. Functions with default paramaters \n",
    "def power(base, exponent=2):\n",
    "    return base**exponent\n",
    "\n",
    "#call \n",
    "base = int(input(\"Enter the base number:\"))\n",
    "print(f\"The value of {base}^2 is\",power(base,2))"
   ]
  },
  {
   "cell_type": "code",
   "execution_count": 65,
   "id": "0fe70c49",
   "metadata": {},
   "outputs": [
    {
     "name": "stdout",
     "output_type": "stream",
     "text": [
      "The sum of the numbers is: 51\n"
     ]
    }
   ],
   "source": [
    "# 4. Function with args \n",
    "\n",
    "def total_sum(*numbers):\n",
    "    total = 0\n",
    "    for number in numbers:\n",
    "        total += number\n",
    "    return total\n",
    "\n",
    "print(f\"The sum of the numbers is: {total_sum(5, 10, 20, 16)}\")\n",
    "\n",
    "\n",
    "#We can use this approach as well: \n",
    "# def calculate_sum(*numbers):\n",
    "#     return sum(numbers)\n",
    "\n",
    "# print(f\"The sum of the numbers is: {calculate_sum(5, 10, 20, 16)}\")\n",
    "\n",
    "\n",
    "\n"
   ]
  },
  {
   "cell_type": "code",
   "execution_count": 66,
   "id": "4f8bf9e1",
   "metadata": {},
   "outputs": [
    {
     "name": "stdout",
     "output_type": "stream",
     "text": [
      "name:Saroj\n",
      "age:26\n",
      "location:ktm\n"
     ]
    }
   ],
   "source": [
    "#5. kwargs \n",
    "def multi_details(**info):\n",
    "    for key,value in info.items():\n",
    "        print(f\"{key}:{value}\")\n",
    "        \n",
    "# call \n",
    "multi_details(name =\"Saroj\", age =26, location=\"ktm\")"
   ]
  },
  {
   "cell_type": "code",
   "execution_count": 67,
   "id": "563245c7",
   "metadata": {},
   "outputs": [
    {
     "name": "stdout",
     "output_type": "stream",
     "text": [
      "Enter the value of x:10\n",
      "Enter the value of y:20\n",
      "The multiplication of 10 * 20 is 200\n"
     ]
    }
   ],
   "source": [
    "#6. Lambda \n",
    "\n",
    "multiply = lambda x, y: x*y\n",
    "\n",
    "x = int(input(\"Enter the value of x:\"))\n",
    "y = int(input(\"Enter the value of y:\"))\n",
    "\n",
    "print(f\"The multiplication of {x} * {y} is\",multiply(x,y))"
   ]
  },
  {
   "cell_type": "code",
   "execution_count": 68,
   "id": "8b33c54b",
   "metadata": {},
   "outputs": [
    {
     "name": "stdout",
     "output_type": "stream",
     "text": [
      "Enter the value of n: 5\n",
      "The factorial of 5! is 120\n"
     ]
    }
   ],
   "source": [
    "#7. Recurssive function \n",
    "\n",
    "# Factorial of a number \n",
    "\n",
    "n = int(input(\"Enter the value of n: \"))\n",
    "def fact(n):\n",
    "    if n == 1: \n",
    "        return 1 \n",
    "    else: \n",
    "        return n*fact(n-1)\n",
    "\n",
    "# call \n",
    "\n",
    "print(f\"The factorial of {n}! is\", fact(n))\n"
   ]
  },
  {
   "cell_type": "code",
   "execution_count": 69,
   "id": "e2e979f8",
   "metadata": {},
   "outputs": [
    {
     "name": "stdout",
     "output_type": "stream",
     "text": [
      "Enter some message:hello\n",
      "Inner function\n",
      "From outer function: hello\n"
     ]
    }
   ],
   "source": [
    "#nested funciton \n",
    "\n",
    "message = input(\"Enter some message:\")\n",
    "def outer_function(message):\n",
    "    def inner_function(): \n",
    "        print(\"Inner function\")\n",
    "    inner_function()\n",
    "    return message\n",
    "    \n",
    "#access \n",
    "print(f\"From outer function:\",outer_function(message))\n",
    "    "
   ]
  },
  {
   "cell_type": "code",
   "execution_count": null,
   "id": "f005ea15",
   "metadata": {},
   "outputs": [],
   "source": [
    "#function as argument \n",
    "\n",
    "def apply_function(func, value): \n",
    "    return func(value)\n",
    "\n",
    "\n",
    "\n",
    "print(\"The functiona s an argument value: \", apply_function(lambda x:x+2, 6))"
   ]
  },
  {
   "cell_type": "markdown",
   "id": "86ccb136",
   "metadata": {},
   "source": [
    "# Function Practice \n",
    "\n",
    "## Function in python review \n",
    "\n",
    "1. Create a function to computer area of different shapes(Circle, Squire,Triangle Rectange, Parellogram, Ellipse, Trapezium\n",
    "2. Note there should be use of loops, match cases, etc and user should terminate the program based on choice"
   ]
  },
  {
   "cell_type": "code",
   "execution_count": 1,
   "id": "c7da2370",
   "metadata": {},
   "outputs": [
    {
     "name": "stdout",
     "output_type": "stream",
     "text": [
      "\n",
      "Select the shape to calculate area:\n",
      "1. Circle\n",
      "2. Triangle\n",
      "3. Square\n",
      "4. Rectangle\n",
      "5. Parallelogram\n",
      "6. Trapezium\n",
      "7. Ellipse\n",
      "\n",
      "Enter the number corresponding to your choice: 1\n",
      "Enter radius: 3.5\n",
      "\n",
      "Calculated Area: 38.48451000647496\n",
      "\n",
      "Do you want to calculate another area? (yes/no): yes\n",
      "\n",
      "Select the shape to calculate area:\n",
      "1. Circle\n",
      "2. Triangle\n",
      "3. Square\n",
      "4. Rectangle\n",
      "5. Parallelogram\n",
      "6. Trapezium\n",
      "7. Ellipse\n",
      "\n",
      "Enter the number corresponding to your choice: 2\n",
      "Enter base: 30\n",
      "Enter height: 40\n",
      "\n",
      "Calculated Area: 600.0\n",
      "\n",
      "Do you want to calculate another area? (yes/no): yes\n",
      "\n",
      "Select the shape to calculate area:\n",
      "1. Circle\n",
      "2. Triangle\n",
      "3. Square\n",
      "4. Rectangle\n",
      "5. Parallelogram\n",
      "6. Trapezium\n",
      "7. Ellipse\n",
      "\n",
      "Enter the number corresponding to your choice: 3\n",
      "Enter side length: 30\n",
      "\n",
      "Calculated Area: 900.0\n",
      "\n",
      "Do you want to calculate another area? (yes/no): yes\n",
      "\n",
      "Select the shape to calculate area:\n",
      "1. Circle\n",
      "2. Triangle\n",
      "3. Square\n",
      "4. Rectangle\n",
      "5. Parallelogram\n",
      "6. Trapezium\n",
      "7. Ellipse\n",
      "\n",
      "Enter the number corresponding to your choice: 4\n",
      "Enter length: 300\n",
      "Enter width: 200\n",
      "\n",
      "Calculated Area: 60000.0\n",
      "\n",
      "Do you want to calculate another area? (yes/no): yes\n",
      "\n",
      "Select the shape to calculate area:\n",
      "1. Circle\n",
      "2. Triangle\n",
      "3. Square\n",
      "4. Rectangle\n",
      "5. Parallelogram\n",
      "6. Trapezium\n",
      "7. Ellipse\n",
      "\n",
      "Enter the number corresponding to your choice: 5\n",
      "Enter base: 30\n",
      "Enter height: 40\n",
      "\n",
      "Calculated Area: 1200.0\n",
      "\n",
      "Do you want to calculate another area? (yes/no): yes\n",
      "\n",
      "Select the shape to calculate area:\n",
      "1. Circle\n",
      "2. Triangle\n",
      "3. Square\n",
      "4. Rectangle\n",
      "5. Parallelogram\n",
      "6. Trapezium\n",
      "7. Ellipse\n",
      "\n",
      "Enter the number corresponding to your choice: 6\n",
      "Enter base 1: 30\n",
      "Enter base 2: 40\n",
      "Enter height: 10\n",
      "\n",
      "Calculated Area: 350.0\n",
      "\n",
      "Do you want to calculate another area? (yes/no): yes\n",
      "\n",
      "Select the shape to calculate area:\n",
      "1. Circle\n",
      "2. Triangle\n",
      "3. Square\n",
      "4. Rectangle\n",
      "5. Parallelogram\n",
      "6. Trapezium\n",
      "7. Ellipse\n",
      "\n",
      "Enter the number corresponding to your choice: 7\n",
      "Enter semi-major axis: 20\n",
      "Enter semi-minor axis: 40\n",
      "\n",
      "Calculated Area: 2513.2741228718346\n",
      "\n",
      "Do you want to calculate another area? (yes/no): no\n",
      "Thank you for using the Area Calculator!\n"
     ]
    }
   ],
   "source": [
    "import math \n",
    "\n",
    "def area_of_circle(radius): \n",
    "    return math.pi*radius**2 \n",
    "\n",
    "def area_of_triangle(base, height): \n",
    "    return 0.5 *base*height\n",
    "\n",
    "def area_of_square(side): \n",
    "    return side**2\n",
    "\n",
    "def area_of_rectangle(length, width): \n",
    "    return length*width \n",
    "\n",
    "def area_of_parallelogram(base, height): \n",
    "    return base* height \n",
    "\n",
    "def area_of_trapezium(base1, base2, height): \n",
    "    return 0.5*(base1+base2)*height\n",
    "\n",
    "def area_of_ellipse(a,b): \n",
    "    return math.pi*a*b \n",
    "\n",
    "# Dictionary-based switch-case alternative\n",
    "def calculate_area():\n",
    "   \"\"\"Menu-based function to calculate area of different shapes\"\"\"\n",
    "   print(\"\\nSelect the shape to calculate area:\")\n",
    "   print(\"1. Circle\")\n",
    "   print(\"2. Triangle\")\n",
    "   print(\"3. Square\")\n",
    "   print(\"4. Rectangle\")\n",
    "   print(\"5. Parallelogram\")\n",
    "   print(\"6. Trapezium\")\n",
    "   print(\"7. Ellipse\")\n",
    "  \n",
    "   choice = input(\"\\nEnter the number corresponding to your choice: \")\n",
    "\n",
    "\n",
    "   shape_functions = {\n",
    "       \"1\": lambda: area_of_circle(float(input(\"Enter radius: \"))),\n",
    "       \"2\": lambda: area_of_triangle(float(input(\"Enter base: \")), float(input(\"Enter height: \"))),\n",
    "       \"3\": lambda: area_of_square(float(input(\"Enter side length: \"))),\n",
    "       \"4\": lambda: area_of_rectangle(float(input(\"Enter length: \")), float(input(\"Enter width: \"))),\n",
    "       \"5\": lambda: area_of_parallelogram(float(input(\"Enter base: \")), float(input(\"Enter height: \"))),\n",
    "       \"6\": lambda: area_of_trapezium(float(input(\"Enter base 1: \")), float(input(\"Enter base 2: \")), float(input(\"Enter height: \"))),\n",
    "       \"7\": lambda: area_of_ellipse(float(input(\"Enter semi-major axis: \")), float(input(\"Enter semi-minor axis: \"))),\n",
    "   }\n",
    "\n",
    "\n",
    "   result = shape_functions.get(choice, lambda: \"Invalid choice!\")()\n",
    "  \n",
    "   print(f\"\\nCalculated Area: {result}\")\n",
    "\n",
    "\n",
    "# Run the function\n",
    "if __name__ == \"__main__\":\n",
    "   while True:\n",
    "       calculate_area()\n",
    "       again = input(\"\\nDo you want to calculate another area? (yes/no): \").strip().lower()\n",
    "       if again != 'yes':\n",
    "           print(\"Thank you for using the Area Calculator!\")\n",
    "           break\n",
    "\n",
    "\n",
    "\n",
    "\n",
    "\n",
    "\n",
    "\n",
    "\n",
    "\n"
   ]
  },
  {
   "cell_type": "markdown",
   "id": "b895b320",
   "metadata": {},
   "source": [
    "## Object Oriented Programming in Python \n",
    "\n",
    "- The Object oriented programming is used for real world scenarios. \n",
    "- Concepts: \n",
    " - Python class \n",
    " - Python Object \n",
    " - Python Inheritance \n",
    " - Python Encaptulation \n",
    " - Python Polymorphism\n",
    " - Python abstration \n",
    " \n",
    " \n",
    " \n",
    " "
   ]
  },
  {
   "cell_type": "markdown",
   "id": "cdeec3b5",
   "metadata": {},
   "source": [
    "# Python Class \n",
    "\n",
    "- Classes in python are the blueprint which is used to define attributes, and  methods. \n",
    "- It encapsulate attributes and methods to provide clear structure \n",
    "\n",
    "# Object \n",
    "\n",
    "- Objects are the instance of class \n",
    "- They are created from the blueprint of class and can have independent features \n",
    "- We can create multiple instance that share same attributes and methods \n",
    "\n"
   ]
  },
  {
   "cell_type": "markdown",
   "id": "c3b840b1",
   "metadata": {},
   "source": [
    "### eg : If we have a House as a class (blueprint) then different houses on that blueprint are objects "
   ]
  },
  {
   "cell_type": "markdown",
   "id": "c69e3b06",
   "metadata": {},
   "source": [
    "# Class  in python has muliple features: \n",
    "\n",
    "- Constructors: They are the special method which are called when object are created using **__init__** method \n",
    "- Special class methods and variables like __str__ , __doc__ \n",
    "- The abality to inherit from other classes which allow the code reusability is known as object oriented design \n",
    "- **Encaptulation** It is the process in which the attributes and methods are combined together. \n",
    "- **Abstration** It is the process of hiding the implementation details. It is done using access modifiers private, protected, and public \n",
    "- **Polymorphism** It is where the classes, functions has more than one form. **Object of same classes**"
   ]
  },
  {
   "cell_type": "code",
   "execution_count": 3,
   "id": "27a0c772",
   "metadata": {},
   "outputs": [
    {
     "name": "stdout",
     "output_type": "stream",
     "text": [
      "Enter account holder name: Saroj Bhandari \n",
      "Enter initial balance to that account: 10000\n",
      "Select the operation: \n",
      "1. Deposit \n",
      "2. WIthdraw\n",
      "3. Display\n",
      "4. Exit \n",
      "Enter your choice(1-4): 1\n",
      "Enter the amount to deposit: 10000\n",
      "$10000.0 is deposited. New balance is :$20000.0\n",
      "Select the operation: \n",
      "1. Deposit \n",
      "2. WIthdraw\n",
      "3. Display\n",
      "4. Exit \n",
      "Enter your choice(1-4): 2\n",
      "Enter the amount to withdraw: 25000\n",
      "Insufficient Balance\n",
      "Select the operation: \n",
      "1. Deposit \n",
      "2. WIthdraw\n",
      "3. Display\n",
      "4. Exit \n",
      "Enter your choice(1-4): 2\n",
      "Enter the amount to withdraw: 5000\n",
      "$5000.0 is withdrawn. New balance is: $15000.0\n",
      "Select the operation: \n",
      "1. Deposit \n",
      "2. WIthdraw\n",
      "3. Display\n",
      "4. Exit \n",
      "Enter your choice(1-4): 3\n",
      "Name is Saroj Bhandari .\n",
      " Balance is 15000.0\n"
     ]
    }
   ],
   "source": [
    "#OOPs \n",
    "class BankAccount: \n",
    "    def __init__(self, name, balance=0):\n",
    "        self.name = name \n",
    "        self.balance = balance \n",
    "        \n",
    "    def deposit(self, amount): \n",
    "        self.balance += amount \n",
    "        print(f\"${amount} is deposited. New balance is :${self.balance}\")\n",
    "        \n",
    "    def withdraw(self, amount): \n",
    "        if (amount > self.balance): \n",
    "            print(\"Insufficient Balance\")\n",
    "        else: \n",
    "            self.balance -=amount \n",
    "            print(f\"${amount} is withdrawn. New balance is: ${self.balance}\")\n",
    "        \n",
    "    def display(self):\n",
    "        print(f\"Name is {self.name}.\\nBalance is ${self.balance}\")\n",
    "        \n",
    "\n",
    "#create an account with user input \n",
    "\n",
    "name = input(\"Enter account holder name: \")\n",
    "initial_balance = float(input(\"Enter initial balance to that account: \"))\n",
    "\n",
    "#creating object \n",
    "\n",
    "account = BankAccount(name, initial_balance)\n",
    "\n",
    "\n",
    "while True: \n",
    "    print(\"Select the operation: \")\n",
    "    print(\"1. Deposit \")\n",
    "    print(\"2. WIthdraw\")\n",
    "    print(\"3. Display\")\n",
    "    print(\"4. Exit \")\n",
    "    \n",
    "    choice = input(\"Enter your choice(1-4): \").strip()\n",
    "    \n",
    "    if choice == \"1\": \n",
    "        amount = float(input(\"Enter the amount to deposit: \"))\n",
    "        account.deposit(amount)\n",
    "    elif choice == \"2\": \n",
    "        amount = float(input(\"Enter the amount to withdraw: \"))\n",
    "        account. withdraw(amount)\n",
    "        \n",
    "    elif choice == \"3\": \n",
    "        account.display()\n",
    "        break   \n",
    "    else: \n",
    "        print(\"Invalid choice\")\n",
    "        \n",
    "        \n",
    "        \n",
    "        "
   ]
  },
  {
   "cell_type": "code",
   "execution_count": null,
   "id": "9feb8ab7",
   "metadata": {},
   "outputs": [
    {
     "name": "stdout",
     "output_type": "stream",
     "text": [
      "Enter your name: Saroj \n",
      "Enter account type (savings/general): saving\n",
      "Hello Saroj , welcome to your bank account!\n",
      "\n",
      "Choose an option: \n",
      "1. Deposit \n",
      "2. Withdraw \n",
      "3. Check Balance \n",
      "4. Exit\n",
      "Enter your choice: 1\n",
      "Enter amount to be Deposited: 10000\n",
      "\n",
      "Amount Deposited: 10000.0\n",
      "\n",
      "Choose an option: \n",
      "1. Deposit \n",
      "2. Withdraw \n",
      "3. Check Balance \n",
      "4. Exit\n",
      "Enter your choice: 2\n"
     ]
    }
   ],
   "source": [
    "# Bank Account Management System using OOP Principles\n",
    "\n",
    "\n",
    "# Parent class representing a generic Bank Account\n",
    "class BankAccount:\n",
    "   def __init__(self, account_holder):\n",
    "       # Encapsulation: Protecting the balance attribute\n",
    "       self._balance = 0  # Using _balance to indicate it's protected\n",
    "       self.account_holder = account_holder  # Account holder name\n",
    "       print(f\"Hello {self.account_holder}, welcome to your bank account!\")\n",
    "  \n",
    "   # Method to deposit money\n",
    "   def deposit(self, amount):\n",
    "       if amount > 0:\n",
    "           self._balance += amount\n",
    "           print(f\"\\nAmount Deposited: {amount}\")\n",
    "       else:\n",
    "           print(\"\\nDeposit amount must be greater than zero.\")\n",
    "  \n",
    "   # Method to withdraw money\n",
    "   def withdraw(self, amount):\n",
    "       if amount > 0:\n",
    "           if self._balance >= amount:\n",
    "               self._balance -= amount\n",
    "               print(f\"\\nYou Withdrew: {amount}\")\n",
    "           else:\n",
    "               print(\"\\nInsufficient balance!\")\n",
    "       else:\n",
    "           print(\"\\nWithdrawal amount must be greater than zero.\")\n",
    "  \n",
    "   # Method to display balance\n",
    "   def display_balance(self):\n",
    "       print(f\"\\nNet Available Balance: {self._balance}\")\n",
    "  \n",
    "# Child class inheriting from BankAccount\n",
    "class SavingsAccount(BankAccount):\n",
    "   def __init__(self, account_holder, interest_rate=0.03):\n",
    "       super().__init__(account_holder)  # Calling the constructor of the parent class\n",
    "       self.interest_rate = interest_rate  # Specific attribute for savings account\n",
    "  \n",
    "   # Polymorphism: Overriding the display_balance method\n",
    "   def display_balance(self):\n",
    "       print(f\"\\nSavings Account Balance for {self.account_holder}: {self._balance}\")\n",
    "       print(f\"Interest Rate: {self.interest_rate * 100}%\")\n",
    "\n",
    "\n",
    "# Function to get user input dynamically\n",
    "def main():\n",
    "   name = input(\"Enter your name: \")\n",
    "   account_type = input(\"Enter account type (savings/general): \").strip().lower()\n",
    "  \n",
    "   if account_type == \"savings\":\n",
    "       account = SavingsAccount(name)\n",
    "   else:\n",
    "       account = BankAccount(name)\n",
    "  \n",
    "   while True:\n",
    "       print(\"\\nChoose an option: \\n1. Deposit \\n2. Withdraw \\n3. Check Balance \\n4. Exit\")\n",
    "       choice = input(\"Enter your choice: \")\n",
    "      \n",
    "       if choice == \"1\":\n",
    "           amount = float(input(\"Enter amount to be Deposited: \"))\n",
    "           account.deposit(amount)\n",
    "       elif choice == \"2\":\n",
    "           amount = float(input(\"Enter amount to be Withdrawn: \"))\n",
    "           account.withdraw(amount)\n",
    "       elif choice == \"3\":\n",
    "           account.display_balance()\n",
    "       elif choice == \"4\":\n",
    "           print(\"\\nThank you for using our banking system!\")\n",
    "           break\n",
    "       else:\n",
    "           print(\"\\nInvalid choice. Please try again.\")\n",
    "\n",
    "\n",
    "# Running the program\n",
    "if __name__ == \"__main__\":\n",
    "   main()\n",
    "\n",
    "\n",
    "\n"
   ]
  },
  {
   "cell_type": "markdown",
   "id": "27a63f8f",
   "metadata": {},
   "source": [
    "###  Access Modifiers \n"
   ]
  },
  {
   "cell_type": "markdown",
   "id": "bf76dd3e",
   "metadata": {},
   "source": [
    "|Access Modifiers |Prefix|Access Label|Example |\n",
    "|-----------------|------|------------|--------|\n",
    "|Public| variable|Through out the program| obj.variable| \n",
    "|Protected|_variable|Own class and Inherited classes| obj._variable| \n",
    "|Private|__variable| Own class |obj._className__variable|"
   ]
  },
  {
   "cell_type": "code",
   "execution_count": 5,
   "id": "da7e8a99",
   "metadata": {},
   "outputs": [
    {
     "name": "stdout",
     "output_type": "stream",
     "text": [
      "I am public variable\n",
      "From public method\n",
      "None\n",
      "I am protected variable\n",
      "Protected method can be used within sub classes\n",
      "None\n",
      " I am private variable\n"
     ]
    }
   ],
   "source": [
    "class Example: \n",
    "    def __init__(self): \n",
    "        self.public_variable = \"I am public variable\"\n",
    "        self._protected_variable = \"I am protected variable\"\n",
    "        self.__private_variable = \" I am private variable\"\n",
    "    \n",
    "    def public_method(self): \n",
    "        print(\"From public method\")\n",
    "    \n",
    "    def _protected_method(self): \n",
    "        print(\"Protected method can be used within sub classes\")\n",
    "    \n",
    "    def __private_method(self): \n",
    "        print(\"It can be accessed within class only\")\n",
    "        \n",
    "    \n",
    "obj = Example()\n",
    "\n",
    "#public attributes and method access \n",
    "\n",
    "print(obj.public_variable)\n",
    "print(obj.public_method())\n",
    "\n",
    "\n",
    "# protected method and variable can be accessed but we should handle it with cautiously \n",
    "print(obj._protected_variable)\n",
    "print(obj._protected_method())\n",
    "\n",
    "\n",
    "# #private \n",
    "# print(obj.__private_variable)\n",
    "# obj.__prive_method()\n",
    "\n",
    "\n",
    "#accessing private variable using mangling \n",
    "print(obj._Example__private_variable)\n",
    "\n"
   ]
  },
  {
   "cell_type": "code",
   "execution_count": null,
   "id": "9d2639e3",
   "metadata": {},
   "outputs": [],
   "source": []
  },
  {
   "cell_type": "markdown",
   "id": "c914ddda",
   "metadata": {},
   "source": [
    "# 🏛️ Types of Inheritance in Python\n",
    "\n",
    "Inheritance is a core concept in **Object-Oriented Programming (OOP)** that allows a class to derive properties and methods from another class. Python supports the following **five types of inheritance**:\n",
    "\n",
    "## 1️⃣ Single Inheritance\n",
    "A child class inherits from a **single parent class**, gaining access to its attributes and methods.\n",
    "\n",
    "## 2️⃣ Multiple Inheritance\n",
    "A child class inherits from **two or more parent classes**, combining their functionality. This can lead to **method resolution order (MRO)** complexities.\n",
    "\n",
    "## 3️⃣ Multilevel Inheritance\n",
    "A child class inherits from a parent class, which itself **inherits from another parent**. This forms a **chain of inheritance**.\n",
    "\n",
    "## 4️⃣ Hierarchical Inheritance\n",
    "Multiple child classes inherit from the **same parent class**, allowing shared functionality while maintaining separate implementations.\n",
    "\n",
    "## 5️⃣ Hybrid Inheritance\n",
    "A **combination** of multiple inheritance types, often mixing hierarchical, multiple, and multilevel inheritance.\n",
    "\n",
    "---\n",
    "\n",
    "## 🎯 Summary Table\n",
    "\n",
    "| **Inheritance Type** | **Description** |\n",
    "|----------------|----------------|\n",
    "| **Single** | One child class inherits from one parent class. |\n",
    "| **Multiple** | One child class inherits from multiple parent classes. |\n",
    "| **Multilevel** | Inheritance happens in a chain (Grandparent → Parent → Child). |\n",
    "| **Hierarchical** | Multiple child classes inherit from the same parent. |\n",
    "| **Hybrid** | A combination of two or more inheritance types. |"
   ]
  },
  {
   "cell_type": "code",
   "execution_count": 10,
   "id": "47bea6e6",
   "metadata": {},
   "outputs": [
    {
     "ename": "SyntaxError",
     "evalue": "invalid syntax (146951087.py, line 11)",
     "output_type": "error",
     "traceback": [
      "\u001b[1;36m  Cell \u001b[1;32mIn[10], line 11\u001b[1;36m\u001b[0m\n\u001b[1;33m    parent_msg = self._protected_method() return print(f\"The message from parent {parent_msg}\")\u001b[0m\n\u001b[1;37m                                          ^\u001b[0m\n\u001b[1;31mSyntaxError\u001b[0m\u001b[1;31m:\u001b[0m invalid syntax\n"
     ]
    }
   ],
   "source": [
    "# #protected method accessing from parent child relation \n",
    "\n",
    "\n",
    "# class Child(Parent): \n",
    "#     def __init__(self): \n",
    "#         super().__init__()\n",
    "#         self.child_variable =  \"Child variable\"\n",
    "        \n",
    "#     def use_protected(self): \n",
    "#         #accessing the protected method from parent \n",
    "#         parent_msg = self._protected_method() return print(f\"The message from parent {parent_msg}\")\n",
    "    \n",
    "# #creating the instance of Child \n",
    "    \n",
    "# child_instance = Child() \n",
    "# print(child_instance._protected_method())"
   ]
  },
  {
   "cell_type": "code",
   "execution_count": 12,
   "id": "cf2ec0d8",
   "metadata": {},
   "outputs": [
    {
     "name": "stdout",
     "output_type": "stream",
     "text": [
      "Hello Good Morning\n"
     ]
    }
   ],
   "source": [
    "#single inheritance \n",
    "\n",
    "class Parent: \n",
    "    def greet(self): \n",
    "        print(\"Hello Good Morning\")\n",
    "\n",
    "class Child(Parent): \n",
    "    pass \n",
    "\n",
    "\n",
    "child1 = Child()\n",
    "child1.greet()\n",
    "    "
   ]
  },
  {
   "cell_type": "markdown",
   "id": "64bfd50c",
   "metadata": {},
   "source": [
    "# Bank Account Management System\n",
    "\n",
    "## Features\n",
    "\n",
    "| **#** | **Feature** | **Description** |\n",
    "|---|---------------------|------------------------------------------------|\n",
    "| 1  | **Encapsulation** | Protects account details and balance using private attributes. |\n",
    "| 2  | **Inheritance** | Implements `SavingsAccount`, `CheckingAccount`, `BusinessAccount` using a base class. |\n",
    "| 3  | **Polymorphism** | Different withdrawal rules for each account type. |\n",
    "| 4  | **Abstraction** | Defines a `BankAccount` base class with abstract methods. |\n",
    "| 5  | **Deposit Funds** | Allows users to deposit money into their account. |\n",
    "| 6  | **Withdraw Funds** | Different withdrawal rules based on account type. |\n",
    "| 7  | **Interest Calculation** | Savings accounts earn interest over time. |\n",
    "| 8  | **Overdraft Protection** | Checking accounts allow overdrafts up to a limit. |\n",
    "| 9  | **Transaction History** | Records all deposits and withdrawals. |\n",
    "| 10 | **Error Handling** | Ensures proper transaction validation and exception handling. |\n"
   ]
  },
  {
   "cell_type": "code",
   "execution_count": null,
   "id": "c23807a0",
   "metadata": {},
   "outputs": [
    {
     "name": "stdout",
     "output_type": "stream",
     "text": [
      "\n",
      "Welcome to the Bank Account Management System \n",
      "Enter your full name: Saroj Bhandari\n",
      "Enter a unique account number: 10123456789456\n",
      "Enter initial deposit amount: $100000\n",
      "\n",
      "Choose an account type:\n",
      "1. Savings Account\n",
      "2. Checking Account\n",
      "3. Business Account\n",
      "Enter your choice (1/2/3): 1\n",
      "\n",
      "Choose an operation:\n",
      "1. Deposit Money\n",
      "2. Withdraw Money\n",
      "3. Check Balance\n",
      "4. View Transaction History\n",
      "5. Add Interest\n",
      "6. Exit\n",
      "Enter your option (1/2/3/4/5/6): 1\n",
      "Enter deposit amount: $15000\n",
      "$15000.0 deposited successfully. New Balance: $115000.0\n",
      "\n",
      "Choose an operation:\n",
      "1. Deposit Money\n",
      "2. Withdraw Money\n",
      "3. Check Balance\n",
      "4. View Transaction History\n",
      "5. Add Interest\n",
      "6. Exit\n",
      "Enter your option (1/2/3/4/5/6): 2\n",
      "Enter withdrawal amount: $1200\n",
      "$1200.0 withdrawn successfully. New Balance: $113800.0\n",
      "\n",
      "Choose an operation:\n",
      "1. Deposit Money\n",
      "2. Withdraw Money\n",
      "3. Check Balance\n",
      "4. View Transaction History\n",
      "5. Add Interest\n",
      "6. Exit\n",
      "Enter your option (1/2/3/4/5/6): 3\n",
      "Your current balance is: $113800.0\n",
      "\n",
      "Choose an operation:\n",
      "1. Deposit Money\n",
      "2. Withdraw Money\n",
      "3. Check Balance\n",
      "4. View Transaction History\n",
      "5. Add Interest\n",
      "6. Exit\n",
      "Enter your option (1/2/3/4/5/6): 4\n",
      "Transaction History: ['Deposited: $15000.0', 'Withdrawn: $1200.0']\n",
      "\n",
      "Choose an operation:\n",
      "1. Deposit Money\n",
      "2. Withdraw Money\n",
      "3. Check Balance\n",
      "4. View Transaction History\n",
      "5. Add Interest\n",
      "6. Exit\n",
      "Enter your option (1/2/3/4/5/6): 5\n",
      "Interest of $3414.00 added. New Balance: $117214.0\n",
      "\n",
      "Choose an operation:\n",
      "1. Deposit Money\n",
      "2. Withdraw Money\n",
      "3. Check Balance\n",
      "4. View Transaction History\n",
      "5. Add Interest\n",
      "6. Exit\n"
     ]
    }
   ],
   "source": [
    "from abc import ABC, abstractmethod\n",
    "class BankAccount(ABC):\n",
    "    def __init__(self, account_number, account_holder, balance=0):\n",
    "        self._account_number = account_number  # Encapsulation (Protected Attribute)\n",
    "        self._account_holder = account_holder\n",
    "        self._balance = balance\n",
    "        self._transactions = []  # Stores transaction history\n",
    "\n",
    "    @abstractmethod\n",
    "    def withdraw(self, amount):\n",
    "        pass\n",
    "\n",
    "    def deposit(self, amount):\n",
    "        try:\n",
    "            amount = float(amount)\n",
    "            if amount <= 0:\n",
    "                raise ValueError(\"Deposit amount must be greater than zero.\")\n",
    "            self._balance += amount\n",
    "            self._transactions.append(f\"Deposited: ${amount}\")\n",
    "            print(f\"${amount} deposited successfully. New Balance: ${self._balance}\")\n",
    "        except ValueError as e:\n",
    "            print(f\"Error: {e}\")\n",
    "\n",
    "    def get_balance(self):\n",
    "        return self._balance\n",
    "\n",
    "    def get_transaction_history(self):\n",
    "        return self._transactions\n",
    "\n",
    "# Savings Account - Inherits from BankAccount\n",
    "class SavingsAccount(BankAccount):\n",
    "    INTEREST_RATE = 0.03  # 3% Annual Interest\n",
    "\n",
    "    def withdraw(self, amount):\n",
    "        try:\n",
    "            amount = float(amount)\n",
    "            if amount <= 0:\n",
    "                raise ValueError(\"Withdrawal amount must be greater than zero.\")\n",
    "            if amount > self._balance:\n",
    "                raise ValueError(\"Insufficient balance.\")\n",
    "            self._balance -= amount\n",
    "            self._transactions.append(f\"Withdrawn: ${amount}\")\n",
    "            print(f\"${amount} withdrawn successfully. New Balance: ${self._balance}\")\n",
    "        except ValueError as e:\n",
    "            print(f\"Error: {e}\")\n",
    "\n",
    "    def add_interest(self):\n",
    "        interest = self._balance * self.INTEREST_RATE\n",
    "        self._balance += interest\n",
    "        self._transactions.append(f\"Interest Added: ${interest:.2f}\")\n",
    "        print(f\"Interest of ${interest:.2f} added. New Balance: ${self._balance}\")\n",
    "\n",
    "# Checking Account - Inherits from BankAccount\n",
    "class CheckingAccount(BankAccount):\n",
    "    OVERDRAFT_LIMIT = 500  # Allows overdraft up to $500\n",
    "\n",
    "    def withdraw(self, amount):\n",
    "        try:\n",
    "            amount = float(amount)\n",
    "            if amount <= 0:\n",
    "                raise ValueError(\"Withdrawal amount must be greater than zero.\")\n",
    "            if self._balance - amount < -self.OVERDRAFT_LIMIT:\n",
    "                raise ValueError(\"Withdrawal denied! Exceeds overdraft limit.\")\n",
    "            self._balance -= amount\n",
    "            self._transactions.append(f\"Withdrawn: ${amount}\")\n",
    "            print(f\"${amount} withdrawn successfully. New Balance: ${self._balance}\")\n",
    "        except ValueError as e:\n",
    "            print(f\"Error: {e}\")\n",
    "\n",
    "# Business Account - Inherits from BankAccount\n",
    "class BusinessAccount(BankAccount):\n",
    "    TRANSACTION_FEE = 5  # Fee for every withdrawal\n",
    "\n",
    "    def withdraw(self, amount):\n",
    "        try:\n",
    "            amount = float(amount)\n",
    "            total_amount = amount + self.TRANSACTION_FEE\n",
    "            if amount <= 0:\n",
    "                raise ValueError(\"Withdrawal amount must be greater than zero.\")\n",
    "            if total_amount > self._balance:\n",
    "                raise ValueError(\"Insufficient balance including transaction fee.\")\n",
    "            self._balance -= total_amount\n",
    "            self._transactions.append(f\"Withdrawn: ${amount}, Fee: ${self.TRANSACTION_FEE}\")\n",
    "            print(f\"${amount} withdrawn with ${self.TRANSACTION_FEE} fee. New Balance: ${self._balance}\")\n",
    "        except ValueError as e:\n",
    "            print(f\"Error: {e}\")\n",
    "\n",
    "# Interactive Menu with User Input\n",
    "def main():\n",
    "    print(\"\\nWelcome to the Bank Account Management System \")\n",
    "\n",
    "    # Get user details\n",
    "    account_holder = input(\"Enter your full name: \").strip()\n",
    "   \n",
    "    while True:\n",
    "        try:\n",
    "            account_number = input(\"Enter a unique account number: \").strip()\n",
    "            if not account_number.isdigit():\n",
    "                raise ValueError(\"Account number must contain only digits.\")\n",
    "            break\n",
    "        except ValueError as e:\n",
    "            print(f\"Error: {e}\")\n",
    "\n",
    "    while True:\n",
    "        try:\n",
    "            initial_balance = float(input(\"Enter initial deposit amount: $\"))\n",
    "            if initial_balance < 0:\n",
    "                raise ValueError(\"Initial deposit cannot be negative.\")\n",
    "            break\n",
    "        except ValueError as e:\n",
    "            print(f\"Error: {e}\")\n",
    "\n",
    "    # Account Selection with Error Handling\n",
    "    while True:\n",
    "        print(\"\\nChoose an account type:\")\n",
    "        print(\"1. Savings Account\")\n",
    "        print(\"2. Checking Account\")\n",
    "        print(\"3. Business Account\")\n",
    "\n",
    "        try:\n",
    "            choice = int(input(\"Enter your choice (1/2/3): \"))\n",
    "            if choice == 1:\n",
    "                account = SavingsAccount(account_number, account_holder, initial_balance)\n",
    "            elif choice == 2:\n",
    "                account = CheckingAccount(account_number, account_holder, initial_balance)\n",
    "            elif choice == 3:\n",
    "                account = BusinessAccount(account_number, account_holder, initial_balance)\n",
    "            else:\n",
    "                raise ValueError(\"Invalid choice. Please enter 1, 2, or 3.\")\n",
    "            break\n",
    "        except ValueError as e:\n",
    "            print(f\"Error: {e}\")\n",
    "\n",
    "    while True:\n",
    "        print(\"\\nChoose an operation:\")\n",
    "        print(\"1. Deposit Money\")\n",
    "        print(\"2. Withdraw Money\")\n",
    "        print(\"3. Check Balance\")\n",
    "        print(\"4. View Transaction History\")\n",
    "        if isinstance(account, SavingsAccount):\n",
    "            print(\"5. Add Interest\")\n",
    "        print(\"6. Exit\")\n",
    "\n",
    "        try:\n",
    "            option = int(input(\"Enter your option (1/2/3/4/5/6): \"))\n",
    "\n",
    "            if option == 1:\n",
    "                amount = input(\"Enter deposit amount: $\")\n",
    "                account.deposit(amount)\n",
    "            elif option == 2:\n",
    "                amount = input(\"Enter withdrawal amount: $\")\n",
    "                account.withdraw(amount)\n",
    "            elif option == 3:\n",
    "                print(f\"Your current balance is: ${account.get_balance()}\")\n",
    "            elif option == 4:\n",
    "                print(\"Transaction History:\", account.get_transaction_history())\n",
    "            elif option == 5 and isinstance(account, SavingsAccount):\n",
    "                account.add_interest()\n",
    "            elif option == 6:\n",
    "                print(\"Thank you for using our system. Have a great day!\")\n",
    "                break\n",
    "            else:\n",
    "                print(\"Invalid option. Please choose a valid operation.\")\n",
    "\n",
    "        except ValueError:\n",
    "            print(\"Invalid input. Please enter a number between 1 and 6.\")\n",
    "\n",
    "# Run the main menu\n",
    "if __name__ == \"__main__\":\n",
    "    main()\n",
    "\n",
    "\n",
    "\n",
    "\n",
    "\n",
    "\n"
   ]
  },
  {
   "cell_type": "code",
   "execution_count": null,
   "id": "aac7f01c",
   "metadata": {},
   "outputs": [],
   "source": []
  },
  {
   "cell_type": "code",
   "execution_count": null,
   "id": "ebfeccb9",
   "metadata": {},
   "outputs": [],
   "source": []
  },
  {
   "cell_type": "code",
   "execution_count": null,
   "id": "4a12ba6c",
   "metadata": {},
   "outputs": [],
   "source": []
  }
 ],
 "metadata": {
  "kernelspec": {
   "display_name": "Python 3 (ipykernel)",
   "language": "python",
   "name": "python3"
  },
  "language_info": {
   "codemirror_mode": {
    "name": "ipython",
    "version": 3
   },
   "file_extension": ".py",
   "mimetype": "text/x-python",
   "name": "python",
   "nbconvert_exporter": "python",
   "pygments_lexer": "ipython3",
   "version": "3.11.1"
  }
 },
 "nbformat": 4,
 "nbformat_minor": 5
}
