{
 "cells": [
  {
   "cell_type": "markdown",
   "id": "38ba45f7",
   "metadata": {},
   "source": [
    "# Numpy \n",
    "\n",
    "- Numpy is used mainly for mathematical and numerical computations \n",
    "- Multidimentional arrays, matrix.. \n",
    "\n",
    "- For installation: \n",
    "    `pip install numpy`\n",
    "    \n",
    "- Use cases: \n",
    "   - Array Handling \n",
    "   - Matrix Handling \n",
    "   - Mathematical operations \n",
    "   - Linear Algebra \n",
    "   - Statical Analysis \n",
    "   - Data Preprocessing "
   ]
  },
  {
   "cell_type": "code",
   "execution_count": null,
   "id": "737852b9",
   "metadata": {},
   "outputs": [],
   "source": [
    "1. Arrays: Creating Arrays, Indexing, Slicing "
   ]
  },
  {
   "cell_type": "code",
   "execution_count": 5,
   "id": "bb17cc0e",
   "metadata": {},
   "outputs": [
    {
     "name": "stdout",
     "output_type": "stream",
     "text": [
      "[1 2 3 4 5 6 7]\n",
      "[[1 2 3 4 5]\n",
      " [5 6 7 8 9]]\n",
      "[[[1 2]\n",
      "  [4 5]]\n",
      "\n",
      " [[4 5]\n",
      "  [6 7]]]\n"
     ]
    }
   ],
   "source": [
    "#Creating array from List \n",
    "\n",
    "import numpy as np \n",
    "\n",
    "#1D array \n",
    "\n",
    "arr1 = np.array([1,2,3,4,5,6,7])\n",
    "print(arr1)\n",
    "\n",
    "#2D array \n",
    "\n",
    "arr2 = np.array([[1,2,3,4,5],[5,6,7,8,9]])\n",
    "print(arr2)\n",
    "\n",
    "\n",
    "#3D array \n",
    "\n",
    "arr3 = np.array([[[1,2],[4,5]],[[4,5],[6,7]]])\n",
    "\n",
    "print(arr3)\n"
   ]
  },
  {
   "cell_type": "code",
   "execution_count": 14,
   "id": "040a3d63",
   "metadata": {},
   "outputs": [
    {
     "name": "stdout",
     "output_type": "stream",
     "text": [
      "[[0. 0.]\n",
      " [0. 0.]\n",
      " [0. 0.]]\n",
      "[[1. 1. 1.]\n",
      " [1. 1. 1.]\n",
      " [1. 1. 1.]]\n",
      "[[1. 0. 0. 0.]\n",
      " [0. 1. 0. 0.]\n",
      " [0. 0. 1. 0.]\n",
      " [0. 0. 0. 1.]]\n",
      "[[0.35198876 0.05249869 0.26536712]\n",
      " [0.28864087 0.14398263 0.87064988]\n",
      " [0.67710436 0.17918272 0.41135103]]\n",
      "Floating-Point Sequence: [0.  0.2 0.4 0.6 0.8]\n",
      "[ 1.    3.25  5.5   7.75 10.  ]\n"
     ]
    }
   ],
   "source": [
    "# Accessing arrays from special function \n",
    "\n",
    "zeros = np.zeros((3,2))\n",
    "print(zeros)\n",
    "\n",
    "\n",
    "ones = np.ones((3,3))\n",
    "print(ones)\n",
    "\n",
    "\n",
    "identity = np.eye(4)\n",
    "print(identity)\n",
    "\n",
    "#random values \n",
    "\n",
    "random_values = np.random.rand(3,3)\n",
    "print(random_values)\n",
    "\n",
    "\n",
    "sequence = np.arange(0, 1, 0.2)\n",
    "print(\"Floating-Point Sequence:\", sequence)\n",
    "\n",
    "#array with evenly distributed numbers \n",
    "\n",
    "linspace_array = np.linspace(1,10,5)\n",
    "print(linspace_array)\n"
   ]
  },
  {
   "cell_type": "code",
   "execution_count": 22,
   "id": "0bca386c",
   "metadata": {},
   "outputs": [
    {
     "name": "stdout",
     "output_type": "stream",
     "text": [
      "10\n",
      "70\n",
      "[10 20 30]\n",
      "1\n",
      "2\n",
      "[4 5 6]\n",
      "[3 6]\n"
     ]
    }
   ],
   "source": [
    "#Indexing and slicing \n",
    "# It is like that of lists in python \n",
    "\n",
    "arr = np.array([10,20,30,40,50,60,70])\n",
    "print(arr[0])\n",
    "print(arr[-1])\n",
    "print(arr[:3])\n",
    "\n",
    "\n",
    "\n",
    "arr1 = np.array([[1,2,3],[4,5,6]])\n",
    "print(arr1[0,0])\n",
    "print(arr1[0,1])\n",
    "print(arr1[1,:])\n",
    "print(arr1[:,2])\n"
   ]
  },
  {
   "cell_type": "code",
   "execution_count": 25,
   "id": "1074da48",
   "metadata": {},
   "outputs": [
    {
     "name": "stdout",
     "output_type": "stream",
     "text": [
      "[ 5  7  9 11 13]\n",
      "[-1 -1 -1 -1 -1]\n",
      "[ 6 12 20 30 42]\n",
      "[0.66666667 0.75       0.8        0.83333333 0.85714286]\n",
      "[     8     81   1024  15625 279936]\n",
      "[ 9 10 11 12 13]\n"
     ]
    }
   ],
   "source": [
    "#Mathematical operations using numpy \n",
    "\n",
    "\n",
    "a = np.array([2,3,4,5,6])\n",
    "b = np.array([3,4,5,6,7])\n",
    "\n",
    "print(a+b)\n",
    "print(a-b)\n",
    "print(a*b)\n",
    "print(a/b)\n",
    "print(a**b)\n",
    "\n",
    "\n",
    "#broadcasting \n",
    "\n",
    "print(a+7)"
   ]
  },
  {
   "cell_type": "markdown",
   "id": "b788f39f",
   "metadata": {},
   "source": [
    "# Statistical operations using Numpy \n",
    "- We can compute all descriptive statics using numpy \n",
    "\n",
    "\n",
    "\n"
   ]
  },
  {
   "cell_type": "code",
   "execution_count": 32,
   "id": "66cefc8f",
   "metadata": {},
   "outputs": [
    {
     "name": "stdout",
     "output_type": "stream",
     "text": [
      "35.0\n",
      "35.0\n",
      "210\n",
      "17.07825127659933\n",
      "291.6666666666667\n",
      "10\n",
      "60\n",
      "22.5 35.0 47.5\n"
     ]
    }
   ],
   "source": [
    "arr = np.array([10,20,30,40,50,60])\n",
    "\n",
    "\n",
    "print(np.mean(arr))\n",
    "print(np.median(arr))\n",
    "print(np.sum(arr))\n",
    "print(np.std(arr))\n",
    "print(np.var(arr))\n",
    "print(np.min(arr))\n",
    "print(np.max(arr))\n",
    "\n",
    "\n",
    "percentile_25 = np.percentile(arr,25)\n",
    "percentile_50 = np.percentile(arr, 50)\n",
    "percentile_75 = np.percentile(arr, 75)\n",
    "\n",
    "\n",
    "print(percentile_25, percentile_50, percentile_75)"
   ]
  },
  {
   "cell_type": "code",
   "execution_count": null,
   "id": "356f58c4",
   "metadata": {},
   "outputs": [],
   "source": [
    "#Matrix operations \n",
    "\n"
   ]
  },
  {
   "cell_type": "code",
   "execution_count": null,
   "id": "780a743e",
   "metadata": {},
   "outputs": [],
   "source": []
  },
  {
   "cell_type": "code",
   "execution_count": null,
   "id": "bc21583b",
   "metadata": {},
   "outputs": [],
   "source": []
  }
 ],
 "metadata": {
  "kernelspec": {
   "display_name": "Python 3 (ipykernel)",
   "language": "python",
   "name": "python3"
  },
  "language_info": {
   "codemirror_mode": {
    "name": "ipython",
    "version": 3
   },
   "file_extension": ".py",
   "mimetype": "text/x-python",
   "name": "python",
   "nbconvert_exporter": "python",
   "pygments_lexer": "ipython3",
   "version": "3.11.1"
  }
 },
 "nbformat": 4,
 "nbformat_minor": 5
}
